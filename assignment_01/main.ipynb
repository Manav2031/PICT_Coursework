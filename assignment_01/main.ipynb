{
 "cells": [
  {
   "cell_type": "markdown",
   "metadata": {},
   "source": [
    "# DSBDL Assignment 01 - Data Wrangling 1\n",
    "\n",
    "Perform the following operations using Python on any open-source dataset (e.g., data.csv) \n",
    "\n",
    "1. Import all the required Python Libraries. \n",
    "2. Locate an open-source data from the web (e.g. https://www.kaggle.com). Provide a clear description of the data and its source (i.e., URL of the web site). \n",
    "3. Load the Dataset into pandas’ data frame. \n",
    "4. Data Preprocessing: check for missing values in the data using pandas isnull (), describe() function to get some initial statistics. Provide variable descriptions. Types of variables etc. Check the dimensions of the data frame.\n",
    "5. Data Formatting and Data Normalization: Summarize the types of variables by checking the data types (i.e., character, numeric, integer, factor, and logical) of the variables in the data set. If variables are not in the correct data type, apply proper type conversions.\n",
    "6. Turn categorical variables into quantitative variables in Python.\n",
    "\n",
    "In addition to the codes and outputs, explain every operation that you do in the above steps and \n",
    "explain everything that you do to import/read/scrape the data set.\n",
    "\n"
   ]
  },
  {
   "cell_type": "markdown",
   "metadata": {},
   "source": [
    "## 1. Import all Python libraries"
   ]
  },
  {
   "cell_type": "code",
   "execution_count": null,
   "metadata": {},
   "outputs": [],
   "source": [
    "import numpy as np\n",
    "import pandas as pd\n",
    "import matplotlib.pyplot as plt"
   ]
  },
  {
   "cell_type": "markdown",
   "metadata": {},
   "source": [
    "## 2. Locate an open-source dataset\n",
    "\n",
    "Source: https://archive.ics.uci.edu/dataset/2/adult\n",
    "\n",
    "> Predict whether income exceeds $50K/yr based on census data. Also known as \"Census Income\" dataset.\n",
    "\n",
    "\n",
    "- Dataset Characteristics: `Multivariate`\n",
    "- Subject Area: `Social Science`\n",
    "- Associated Tasks: `Classification`\n",
    "- Feature Type: `Categorical, Integer`\n",
    "- Instances: `48842`\n",
    "- Number of features: `14`"
   ]
  },
  {
   "cell_type": "markdown",
   "metadata": {},
   "source": [
    "## 3. Load dataset in Pandas DataFrame"
   ]
  },
  {
   "cell_type": "code",
   "execution_count": null,
   "metadata": {},
   "outputs": [],
   "source": [
    "cols = [\n",
    "    \"age\" , \"workclass\" , \"fnlwgt\" , \n",
    "    \"education\" , \"education-num\" , \"marital-status\" , \n",
    "    \"occupation\" , \"relationship\" , \"race\" , \"sex\" , \n",
    "    \"capital-gain\" , \"capital-loss\" , \"hours-per-week\" , \n",
    "    \"native-country\" , \"income\"\n",
    "]\n",
    "ds = pd.read_csv( \"dataset/adult.data\" , header=None , skipinitialspace=True ) \n",
    "ds.columns = cols\n",
    "\n",
    "# Change dtypes from `object` to `str`\n",
    "ds = ds.astype( { \n",
    "    \"workclass\": 'string' , \"education\": 'string' , \"marital-status\": 'string' , \"occupation\": 'string' , \n",
    "    \"relationship\": 'string' ,\n",
    "    \"race\": 'string' , \"sex\": 'string' , \"native-country\": 'string' , \"income\": 'string'\n",
    "} )\n",
    "\n",
    "ds.head()"
   ]
  },
  {
   "cell_type": "markdown",
   "metadata": {},
   "source": [
    "## 4. Data Preprocessing"
   ]
  },
  {
   "cell_type": "markdown",
   "metadata": {},
   "source": [
    "### 4.1. Check dimensions of data frame"
   ]
  },
  {
   "cell_type": "code",
   "execution_count": null,
   "metadata": {},
   "outputs": [],
   "source": [
    "# Dimensions of dataframe\n",
    "ds.shape"
   ]
  },
  {
   "cell_type": "markdown",
   "metadata": {},
   "source": [
    "### 4.2. Check data types of all features"
   ]
  },
  {
   "cell_type": "code",
   "execution_count": null,
   "metadata": {},
   "outputs": [],
   "source": [
    "# Data-types of all columns\n",
    "ds.dtypes"
   ]
  },
  {
   "cell_type": "markdown",
   "metadata": {},
   "source": [
    "### 4.3. Use `.describe` to get statistics for numeric features"
   ]
  },
  {
   "cell_type": "code",
   "execution_count": null,
   "metadata": {},
   "outputs": [],
   "source": [
    "# Initial description of numerical columns in the dataset\n",
    "ds.describe()"
   ]
  },
  {
   "cell_type": "markdown",
   "metadata": {},
   "source": [
    "### 4.4. Check number of missing values for all features"
   ]
  },
  {
   "cell_type": "code",
   "execution_count": null,
   "metadata": {},
   "outputs": [],
   "source": [
    "# Check for missing values in all columns of the dataset\n",
    "ds.isin( [ \"?\" ] ).sum() "
   ]
  },
  {
   "cell_type": "markdown",
   "metadata": {},
   "source": [
    "### 4.5. Provide variable descriptions\n",
    "\n",
    "1. `age`: Age of the person\n",
    "2. `workclass`: Working class of the person\n",
    "3. `fnlwgt`: \n",
    "4. `education`: Education level of the person\n",
    "5. `education-num`: Quantitative feature for `education`\n",
    "6. `marital-status`: Marital status of the person\n",
    "7. `occupation`: Occupation of the person\n",
    "8. `relationship`: \n",
    "9. `race`: Race of the person\n",
    "10. `sex`: Sex/gender of the person\n",
    "11. `capital-gain`: \n",
    "12. `capital-loss`:\n",
    "13. `hours-per-week`: \n",
    "14. `native-country`:"
   ]
  },
  {
   "cell_type": "code",
   "execution_count": null,
   "metadata": {},
   "outputs": [],
   "source": [
    "def plot_value_counts( \n",
    "    name: str , \n",
    "    ds: pd.DataFrame \n",
    "):\n",
    "    value_counts = ds[ name ].value_counts()\n",
    "    entities = value_counts.index.tolist()\n",
    "    freqs = value_counts.values.tolist()\n",
    "    plt.title( name )\n",
    "    plt.xticks( rotation='vertical' )\n",
    "    plt.bar( entities , freqs )\n",
    "    plt.show()"
   ]
  },
  {
   "cell_type": "markdown",
   "metadata": {},
   "source": [
    "## 5. Data Formatting and Normalization\n"
   ]
  },
  {
   "cell_type": "code",
   "execution_count": null,
   "metadata": {
    "scrolled": true
   },
   "outputs": [],
   "source": [
    "# Plot value counts for all discrete features\n",
    "plot_value_counts( \"workclass\" , ds )\n",
    "plot_value_counts( \"education\" , ds )\n",
    "plot_value_counts( \"marital-status\" , ds )\n",
    "plot_value_counts( \"occupation\" , ds )\n",
    "plot_value_counts( \"relationship\" , ds )\n",
    "plot_value_counts( \"race\" , ds )\n",
    "plot_value_counts( \"sex\" , ds )\n",
    "plot_value_counts( \"hours-per-week\" , ds )\n",
    "plot_value_counts( \"income\" , ds )\n",
    "plot_value_counts( \"native-country\" , ds )"
   ]
  },
  {
   "cell_type": "markdown",
   "metadata": {},
   "source": [
    "## 5.1. Handle missing values\n"
   ]
  },
  {
   "cell_type": "markdown",
   "metadata": {},
   "source": [
    "### 5.1.1. Change missing values of `workclass` with mode of the feature"
   ]
  },
  {
   "cell_type": "code",
   "execution_count": null,
   "metadata": {},
   "outputs": [],
   "source": [
    "feature = ds.workclass\n",
    "feature_values = feature.value_counts()\n",
    "mode_feature = feature_values.index.tolist()[ feature_values.argmax() ]\n",
    "ds.loc[ feature == \"?\" , \"workclass\" ] = mode_feature"
   ]
  },
  {
   "cell_type": "markdown",
   "metadata": {},
   "source": [
    "### 5.1.2. Remove records with unknown `occupation` "
   ]
  },
  {
   "cell_type": "code",
   "execution_count": null,
   "metadata": {},
   "outputs": [],
   "source": [
    "ds = ds.loc[ ds.occupation != \"?\" ]"
   ]
  },
  {
   "cell_type": "markdown",
   "metadata": {},
   "source": [
    "### 5.1.3. Change missing values of `native-country` with mode of the feature"
   ]
  },
  {
   "cell_type": "code",
   "execution_count": null,
   "metadata": {},
   "outputs": [],
   "source": [
    "feature = ds[ \"native-country\" ]\n",
    "feature_values = feature.value_counts()\n",
    "mode_feature = feature_values.index.tolist()[ feature_values.argmax() ]\n",
    "ds.loc[ feature == \"?\" , \"native-country\" ] = mode_feature"
   ]
  },
  {
   "cell_type": "markdown",
   "metadata": {},
   "source": [
    "## 5.2 Data Normalization"
   ]
  },
  {
   "cell_type": "code",
   "execution_count": null,
   "metadata": {},
   "outputs": [],
   "source": [
    "def min_max_normalize(\n",
    "    name: str\n",
    "):\n",
    "    ds[ name ] = (ds[ name ] - ds[ name ].min()) / ( ds[ name ].max() - ds[ name ].min() )"
   ]
  },
  {
   "cell_type": "code",
   "execution_count": null,
   "metadata": {},
   "outputs": [],
   "source": [
    "min_max_normalize( \"age\" ) \n",
    "min_max_normalize( \"fnlwgt\" ) \n",
    "min_max_normalize( \"capital-gain\" ) \n",
    "min_max_normalize( \"capital-loss\" ) \n",
    "min_max_normalize( \"hours-per-peek\" ) "
   ]
  },
  {
   "cell_type": "markdown",
   "metadata": {},
   "source": [
    "## 6. Categorical variables to quantitative variables"
   ]
  },
  {
   "cell_type": "markdown",
   "metadata": {},
   "source": [
    "### 6.1. Encoding `gender` into a binary feature (not good though)"
   ]
  },
  {
   "cell_type": "code",
   "execution_count": null,
   "metadata": {},
   "outputs": [],
   "source": [
    "ds.loc[ ds.gender == \"Male\" , \"gender\" ] = 0\n",
    "ds.loc[ ds.gender == \"Male\" , \"gender\" ] = 1"
   ]
  },
  {
   "cell_type": "markdown",
   "metadata": {},
   "source": [
    "### 6.2. Encoding `income` into a binary feature"
   ]
  },
  {
   "cell_type": "code",
   "execution_count": null,
   "metadata": {},
   "outputs": [],
   "source": [
    "ds.loc[ ds.income == \">50K\" , \"income\" ] = 0\n",
    "ds.loc[ ds.income == \"<=50K\" , \"income\" ] = 1"
   ]
  },
  {
   "cell_type": "markdown",
   "metadata": {},
   "source": [
    "### 6.3. "
   ]
  }
 ],
 "metadata": {
  "kernelspec": {
   "display_name": "Python 3 (ipykernel)",
   "language": "python",
   "name": "python3"
  },
  "language_info": {
   "codemirror_mode": {
    "name": "ipython",
    "version": 3
   },
   "file_extension": ".py",
   "mimetype": "text/x-python",
   "name": "python",
   "nbconvert_exporter": "python",
   "pygments_lexer": "ipython3",
   "version": "3.10.4 (tags/v3.10.4:9d38120, Mar 23 2022, 23:13:41) [MSC v.1929 64 bit (AMD64)]"
  },
  "vscode": {
   "interpreter": {
    "hash": "2c09c812309b459f859a45c41ca72d6adb6f6fe1c64b1e59c891ac9ccd5cd845"
   }
  }
 },
 "nbformat": 4,
 "nbformat_minor": 4
}
