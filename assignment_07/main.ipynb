{
 "cells": [
  {
   "cell_type": "markdown",
   "id": "b7ad806f-770f-4154-b268-5f0809bfb85a",
   "metadata": {},
   "source": [
    "# 7. Text Analytics\n",
    "1. Extract Sample document and apply following document preprocessing\n",
    "methods: Tokenization, POS Tagging, stop words removal, Stemming and\n",
    "Lemmatization.\n",
    "2. Create representation of document by calculating Term Frequency and Inverse\n",
    "Document Frequency."
   ]
  },
  {
   "cell_type": "code",
   "execution_count": 2,
   "id": "c8f17ddb-cfb9-422c-a3cb-540cfdda29a2",
   "metadata": {},
   "outputs": [],
   "source": [
    "import nltk"
   ]
  },
  {
   "cell_type": "code",
   "execution_count": 4,
   "id": "a5834021-0672-4895-88ed-a84cef63a0ab",
   "metadata": {},
   "outputs": [
    {
     "data": {
      "text/plain": [
       "'\\nC is an imperative, procedural language in the ALGOL tradition. It has a static type system. In C, all executable code is contained within subroutines (also called \"functions\", though not in the sense of functional programming). Function parameters are passed by value, although arrays are passed as pointers, i.e. the address of the first item in the array. Pass-by-reference is simulated in C by explicitly passing pointers to the thing being referenced. \\n'"
      ]
     },
     "execution_count": 4,
     "metadata": {},
     "output_type": "execute_result"
    }
   ],
   "source": [
    "doc = \"\"\"\n",
    "C is an imperative, procedural language in the ALGOL tradition. It has a static type system. In C, all executable code is contained within subroutines (also called \"functions\", though not in the sense of functional programming). Function parameters are passed by value, although arrays are passed as pointers, i.e. the address of the first item in the array. Pass-by-reference is simulated in C by explicitly passing pointers to the thing being referenced. \n",
    "\"\"\"\n",
    "doc"
   ]
  },
  {
   "cell_type": "code",
   "execution_count": 26,
   "id": "fea0bc94-ca99-40bc-a404-1e9ca2f0db26",
   "metadata": {},
   "outputs": [
    {
     "name": "stderr",
     "output_type": "stream",
     "text": [
      "[nltk_data] Downloading package punkt to /home/student/nltk_data...\n",
      "[nltk_data]   Package punkt is already up-to-date!\n",
      "[nltk_data] Downloading package stopwords to\n",
      "[nltk_data]     /home/student/nltk_data...\n",
      "[nltk_data]   Package stopwords is already up-to-date!\n",
      "[nltk_data] Downloading package averaged_perceptron_tagger to\n",
      "[nltk_data]     /home/student/nltk_data...\n",
      "[nltk_data]   Package averaged_perceptron_tagger is already up-to-\n",
      "[nltk_data]       date!\n",
      "[nltk_data] Downloading package wordnet to /home/student/nltk_data...\n"
     ]
    },
    {
     "data": {
      "text/plain": [
       "True"
      ]
     },
     "execution_count": 26,
     "metadata": {},
     "output_type": "execute_result"
    }
   ],
   "source": [
    "nltk.download('punkt')\n",
    "nltk.download('stopwords')\n",
    "nltk.download('averaged_perceptron_tagger')\n",
    "nltk.download('wordnet')"
   ]
  },
  {
   "cell_type": "markdown",
   "id": "3a941eee-3506-48b4-acb7-8234dd12f43e",
   "metadata": {},
   "source": [
    "## 7.1. Document Preprocessing"
   ]
  },
  {
   "cell_type": "markdown",
   "id": "0213ab96-7afb-4628-bbe7-46fcf12f5d2c",
   "metadata": {},
   "source": [
    "### 7.1.1. Tokenization"
   ]
  },
  {
   "cell_type": "code",
   "execution_count": 17,
   "id": "43e481df-c27c-40b1-baa0-1a14e73cb8c5",
   "metadata": {},
   "outputs": [
    {
     "name": "stdout",
     "output_type": "stream",
     "text": [
      "['C', 'is', 'an', 'imperative', ',', 'procedural', 'language', 'in', 'the', 'ALGOL', 'tradition', '.', 'It', 'has', 'a', 'static', 'type', 'system', '.', 'In', 'C', ',', 'all', 'executable', 'code', 'is', 'contained', 'within', 'subroutines', '(', 'also', 'called', '``', 'functions', \"''\", ',', 'though', 'not', 'in', 'the', 'sense', 'of', 'functional', 'programming', ')', '.', 'Function', 'parameters', 'are', 'passed', 'by', 'value', ',', 'although', 'arrays', 'are', 'passed', 'as', 'pointers', ',', 'i.e', '.', 'the', 'address', 'of', 'the', 'first', 'item', 'in', 'the', 'array', '.', 'Pass-by-reference', 'is', 'simulated', 'in', 'C', 'by', 'explicitly', 'passing', 'pointers', 'to', 'the', 'thing', 'being', 'referenced', '.']\n"
     ]
    }
   ],
   "source": [
    "# word tokenization\n",
    "word_tokens = nltk.word_tokenize( doc )\n",
    "print( word_tokens )"
   ]
  },
  {
   "cell_type": "code",
   "execution_count": 10,
   "id": "f4b6a373-5313-43da-9e2a-edce3dd77cea",
   "metadata": {},
   "outputs": [
    {
     "name": "stdout",
     "output_type": "stream",
     "text": [
      "['\\nC is an imperative, procedural language in the ALGOL tradition.', 'It has a static type system.', 'In C, all executable code is contained within subroutines (also called \"functions\", though not in the sense of functional programming).', 'Function parameters are passed by value, although arrays are passed as pointers, i.e.', 'the address of the first item in the array.', 'Pass-by-reference is simulated in C by explicitly passing pointers to the thing being referenced.']\n"
     ]
    }
   ],
   "source": [
    "# sentence tokenization \n",
    "sent_tokens = nltk.sent_tokenize( doc )\n",
    "print( sent_tokens )"
   ]
  },
  {
   "cell_type": "markdown",
   "id": "95338917-c670-46d2-bdba-a1e274e13657",
   "metadata": {},
   "source": [
    "### 7.1.2. Stop word removal\n"
   ]
  },
  {
   "cell_type": "code",
   "execution_count": 18,
   "id": "73816b90-74bf-403d-a9d5-91670a725d7f",
   "metadata": {},
   "outputs": [
    {
     "name": "stdout",
     "output_type": "stream",
     "text": [
      "['C', 'imperative', ',', 'procedural', 'language', 'ALGOL', 'tradition', '.', 'It', 'static', 'type', 'system', '.', 'In', 'C', ',', 'executable', 'code', 'contained', 'within', 'subroutines', '(', 'also', 'called', '``', 'functions', \"''\", ',', 'though', 'sense', 'functional', 'programming', ')', '.', 'Function', 'parameters', 'passed', 'value', ',', 'although', 'arrays', 'passed', 'pointers', ',', 'i.e', '.', 'address', 'first', 'item', 'array', '.', 'Pass-by-reference', 'simulated', 'C', 'explicitly', 'passing', 'pointers', 'thing', 'referenced', '.']\n"
     ]
    }
   ],
   "source": [
    "stop_words = set(nltk.corpus.stopwords.words('english'))\n",
    "word_tokens = [ token for token in word_tokens if token not in stop_words ]\n",
    "print( word_tokens )"
   ]
  },
  {
   "cell_type": "markdown",
   "id": "fb8c1fba-709a-44be-96c5-4016de426b63",
   "metadata": {},
   "source": [
    "### 7.1.3. Parts of Speech Tagging"
   ]
  },
  {
   "cell_type": "code",
   "execution_count": 23,
   "id": "a71b87e4-79e5-4dc6-9e6e-c2b784dae0cc",
   "metadata": {},
   "outputs": [
    {
     "name": "stdout",
     "output_type": "stream",
     "text": [
      "[('C', 'NNP'), ('imperative', 'NN'), (',', ','), ('procedural', 'JJ'), ('language', 'NN'), ('ALGOL', 'NNP'), ('tradition', 'NN'), ('.', '.'), ('It', 'PRP'), ('static', 'JJ'), ('type', 'NN'), ('system', 'NN'), ('.', '.'), ('In', 'IN'), ('C', 'NNP'), (',', ','), ('executable', 'JJ'), ('code', 'NN'), ('contained', 'VBD'), ('within', 'IN'), ('subroutines', 'NNS'), ('(', '('), ('also', 'RB'), ('called', 'VBN'), ('``', '``'), ('functions', 'NNS'), (\"''\", \"''\"), (',', ','), ('though', 'IN'), ('sense', 'JJ'), ('functional', 'JJ'), ('programming', 'NN'), (')', ')'), ('.', '.'), ('Function', 'NN'), ('parameters', 'NNS'), ('passed', 'VBD'), ('value', 'NN'), (',', ','), ('although', 'IN'), ('arrays', 'NNS'), ('passed', 'VBN'), ('pointers', 'NNS'), (',', ','), ('i.e', 'NN'), ('.', '.'), ('address', 'NN'), ('first', 'JJ'), ('item', 'NN'), ('array', 'NN'), ('.', '.'), ('Pass-by-reference', 'NN'), ('simulated', 'VBD'), ('C', 'NNP'), ('explicitly', 'RB'), ('passing', 'VBG'), ('pointers', 'NNS'), ('thing', 'NN'), ('referenced', 'VBD'), ('.', '.')]\n"
     ]
    }
   ],
   "source": [
    "tags = nltk.pos_tag( word_tokens )\n",
    "print( tags )"
   ]
  },
  {
   "cell_type": "markdown",
   "id": "6318b807-b60c-42a7-a815-98fd60d2914f",
   "metadata": {},
   "source": [
    "### 7.1.4. Lemmatization"
   ]
  },
  {
   "cell_type": "code",
   "execution_count": 27,
   "id": "42ed825a-c84b-43e5-9a43-1e64f1f912dd",
   "metadata": {},
   "outputs": [
    {
     "name": "stdout",
     "output_type": "stream",
     "text": [
      "['C', 'imperative', ',', 'procedural', 'language', 'ALGOL', 'tradition', '.', 'It', 'static', 'type', 'system', '.', 'In', 'C', ',', 'executable', 'code', 'contained', 'within', 'subroutine', '(', 'also', 'called', '``', 'function', \"''\", ',', 'though', 'sense', 'functional', 'programming', ')', '.', 'Function', 'parameter', 'passed', 'value', ',', 'although', 'array', 'passed', 'pointer', ',', 'i.e', '.', 'address', 'first', 'item', 'array', '.', 'Pass-by-reference', 'simulated', 'C', 'explicitly', 'passing', 'pointer', 'thing', 'referenced', '.']\n"
     ]
    }
   ],
   "source": [
    "lemmatizer = nltk.stem.WordNetLemmatizer()\n",
    "lemmatized_tokens = [ lemmatizer.lemmatize( token ) for token in word_tokens ]\n",
    "print( lemmatized_tokens )"
   ]
  },
  {
   "cell_type": "markdown",
   "id": "9975fdf4-5895-4ab1-aa29-f626e2c47ad7",
   "metadata": {},
   "source": [
    "### 7.1.5. Stemming"
   ]
  },
  {
   "cell_type": "code",
   "execution_count": null,
   "id": "3434daf3-5d11-4c0f-a381-388da3c56b80",
   "metadata": {},
   "outputs": [],
   "source": []
  }
 ],
 "metadata": {
  "kernelspec": {
   "display_name": "Python 3 (ipykernel)",
   "language": "python",
   "name": "python3"
  },
  "language_info": {
   "codemirror_mode": {
    "name": "ipython",
    "version": 3
   },
   "file_extension": ".py",
   "mimetype": "text/x-python",
   "name": "python",
   "nbconvert_exporter": "python",
   "pygments_lexer": "ipython3",
   "version": "3.8.10"
  }
 },
 "nbformat": 4,
 "nbformat_minor": 5
}
