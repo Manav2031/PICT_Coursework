{
 "cells": [
  {
   "cell_type": "markdown",
   "id": "b7ad806f-770f-4154-b268-5f0809bfb85a",
   "metadata": {},
   "source": [
    "# 7. Text Analytics\n",
    "1. Extract Sample document and apply following document preprocessing\n",
    "methods: Tokenization, POS Tagging, stop words removal, Stemming and\n",
    "Lemmatization.\n",
    "2. Create representation of document by calculating Term Frequency and Inverse\n",
    "Document Frequency."
   ]
  },
  {
   "cell_type": "code",
   "execution_count": 42,
   "id": "c8f17ddb-cfb9-422c-a3cb-540cfdda29a2",
   "metadata": {},
   "outputs": [],
   "source": [
    "import nltk"
   ]
  },
  {
   "cell_type": "code",
   "execution_count": 43,
   "id": "a5834021-0672-4895-88ed-a84cef63a0ab",
   "metadata": {},
   "outputs": [
    {
     "name": "stdout",
     "output_type": "stream",
     "text": [
      "Between 2016 and 2019, the state forest department under the BJP government had launched ‘Green Maharashtra’ drive with an aim to plant 50 crore trees across the state in the four-year period. In October 2019, the government had claimed it had surpassed the target by planting 33 crore trees in July-September 2019. The Indian Express had found that non-forest agencies — such as gram panchayats — which were tasked with planting trees had not uploaded the mandatory audio-visual proof of the tree plantation drives on the specially created portal.\n",
      "In Pune Revenue Division, it was claimed the gram panchayats planted 1.7 crore saplings; however, no evidence was uploaded for 87 per cent (1.49 crore) saplings. Also, out of the 59 government agencies involved in the drive as many as 38 had not submitted survival reports about the saplings.\n",
      "This year, the targets set by the forest department were comparatively modest. For example, Pune Circle — which comprises three divisions in Pune and Solapur district — had planned to plant 17 lakh saplings on forest land. However, it may not meet the target due to unavailability of funds. Last year Pune Circle planted 70 lakh saplings on forest land.\n",
      "In Pune Division — which comprises six talukas namely Maval, Mulshi, Daund, Indapur, Baramati and Havveli — preparations were done for plantation of about 4 lakh trees with special emphasis on teakwood.\n",
      "The National Forest Policy aims and emphasizes at maintaining 33% of the country’s geographical area under forest and green cover. In view of this and as a part of the 50 crore plantation programme within Maharashtra, the Maharashtra Forest Department aims to plant 4 crore saplings all over the State between 1st to July 7th, 2017 to celebrate ‘Vanmohotsav’.\n",
      " \n",
      "The plantation programme, which was announced in 2016 with the aim of planting 2 crore trees on 1st July 2016 was a resounding success with the final total reported figure of 2.82 crore saplings planted on a single day. To maintain consistency of this platform without affecting its momentum, the Forest Department has set the target of plantation of 4 crore, 13 crore and 33 crore saplings under the mission of 50 crore plantation which shall be accomplished in the three consecutive years viz. 2017, 2018 and 2019.\n",
      " \n",
      "The 4 crore saplings for the year 2017 will be planted during the Vanmohotsav, July 1st to July 7th in a state-wide drive with the involvement of 33 government departments along with Students of Schools and Colleges, NSS, NCC, CSR, NGOs, Railways, National Highways, Defence, NABARD and other stakeholders of Society.\n",
      " \n",
      "In a first of its kind, a 24-hour toll free helpline number 1926 called ‘Hello Forest’ has been set up to provide information regarding plantation, protection and for mass awareness. The Forest Department has created a mobile application called ‘My Plants’ to record details of the plantation such as numbers, species and location into the computer system of the Forest Department. All volunteers at individual, collective and organizational level should download and use this application to record their tree plantation work through the application, which will be operational from 1st July to 7th July. \n",
      " \n",
      "In consonance of the public participation, the Maharashtra Forest Department has initiated the ‘Maharashtra Harit Sena’/ ‘Green Army’ which is a body of dedicated volunteers to participate in the plantation, protection, and activities in forest, wildlife, and related sectors around the year. Individuals and organisations interested in volunteering can register on the Green Army website www.greenarmy.mahaforest.gov.in\n",
      " \n",
      "An integrated drive has been set in place to ensure seamless and successful participation from all stakeholders of society, especially the public.\n",
      "\n",
      "\n"
     ]
    }
   ],
   "source": [
    "doc_file = open( \"doc_01\" , \"r\" )\n",
    "doc = doc_file.read()\n",
    "doc_file.close()\n",
    "print( doc )"
   ]
  },
  {
   "cell_type": "code",
   "execution_count": 44,
   "id": "fea0bc94-ca99-40bc-a404-1e9ca2f0db26",
   "metadata": {},
   "outputs": [
    {
     "name": "stderr",
     "output_type": "stream",
     "text": [
      "[nltk_data] Downloading package punkt to /home/te/nltk_data...\n",
      "[nltk_data]   Package punkt is already up-to-date!\n",
      "[nltk_data] Downloading package stopwords to /home/te/nltk_data...\n",
      "[nltk_data]   Package stopwords is already up-to-date!\n",
      "[nltk_data] Downloading package averaged_perceptron_tagger to\n",
      "[nltk_data]     /home/te/nltk_data...\n",
      "[nltk_data]   Package averaged_perceptron_tagger is already up-to-\n",
      "[nltk_data]       date!\n",
      "[nltk_data] Downloading package wordnet to /home/te/nltk_data...\n",
      "[nltk_data]   Package wordnet is already up-to-date!\n"
     ]
    },
    {
     "data": {
      "text/plain": [
       "True"
      ]
     },
     "execution_count": 44,
     "metadata": {},
     "output_type": "execute_result"
    }
   ],
   "source": [
    "nltk.download('punkt')\n",
    "nltk.download('stopwords')\n",
    "nltk.download('averaged_perceptron_tagger')\n",
    "nltk.download('wordnet')"
   ]
  },
  {
   "cell_type": "code",
   "execution_count": 45,
   "id": "7cb43f4c-e6e6-4a0e-9ff4-3d9e54255d2c",
   "metadata": {},
   "outputs": [],
   "source": [
    "import re\n",
    "\n",
    "doc = re.sub('[\\W_]+', ' ', doc )"
   ]
  },
  {
   "cell_type": "code",
   "execution_count": 46,
   "id": "e6358943-621f-464d-bd80-46a342f535f2",
   "metadata": {},
   "outputs": [
    {
     "data": {
      "text/plain": [
       "'Between 2016 and 2019 the state forest department under the BJP government had launched Green Maharashtra drive with an aim to plant 50 crore trees across the state in the four year period In October 2019 the government had claimed it had surpassed the target by planting 33 crore trees in July September 2019 The Indian Express had found that non forest agencies such as gram panchayats which were tasked with planting trees had not uploaded the mandatory audio visual proof of the tree plantation drives on the specially created portal In Pune Revenue Division it was claimed the gram panchayats planted 1 7 crore saplings however no evidence was uploaded for 87 per cent 1 49 crore saplings Also out of the 59 government agencies involved in the drive as many as 38 had not submitted survival reports about the saplings This year the targets set by the forest department were comparatively modest For example Pune Circle which comprises three divisions in Pune and Solapur district had planned to plant 17 lakh saplings on forest land However it may not meet the target due to unavailability of funds Last year Pune Circle planted 70 lakh saplings on forest land In Pune Division which comprises six talukas namely Maval Mulshi Daund Indapur Baramati and Havveli preparations were done for plantation of about 4 lakh trees with special emphasis on teakwood The National Forest Policy aims and emphasizes at maintaining 33 of the country s geographical area under forest and green cover In view of this and as a part of the 50 crore plantation programme within Maharashtra the Maharashtra Forest Department aims to plant 4 crore saplings all over the State between 1st to July 7th 2017 to celebrate Vanmohotsav The plantation programme which was announced in 2016 with the aim of planting 2 crore trees on 1st July 2016 was a resounding success with the final total reported figure of 2 82 crore saplings planted on a single day To maintain consistency of this platform without affecting its momentum the Forest Department has set the target of plantation of 4 crore 13 crore and 33 crore saplings under the mission of 50 crore plantation which shall be accomplished in the three consecutive years viz 2017 2018 and 2019 The 4 crore saplings for the year 2017 will be planted during the Vanmohotsav July 1st to July 7th in a state wide drive with the involvement of 33 government departments along with Students of Schools and Colleges NSS NCC CSR NGOs Railways National Highways Defence NABARD and other stakeholders of Society In a first of its kind a 24 hour toll free helpline number 1926 called Hello Forest has been set up to provide information regarding plantation protection and for mass awareness The Forest Department has created a mobile application called My Plants to record details of the plantation such as numbers species and location into the computer system of the Forest Department All volunteers at individual collective and organizational level should download and use this application to record their tree plantation work through the application which will be operational from 1st July to 7th July In consonance of the public participation the Maharashtra Forest Department has initiated the Maharashtra Harit Sena Green Army which is a body of dedicated volunteers to participate in the plantation protection and activities in forest wildlife and related sectors around the year Individuals and organisations interested in volunteering can register on the Green Army website www greenarmy mahaforest gov in An integrated drive has been set in place to ensure seamless and successful participation from all stakeholders of society especially the public '"
      ]
     },
     "execution_count": 46,
     "metadata": {},
     "output_type": "execute_result"
    }
   ],
   "source": [
    "doc"
   ]
  },
  {
   "cell_type": "markdown",
   "id": "3a941eee-3506-48b4-acb7-8234dd12f43e",
   "metadata": {},
   "source": [
    "## 7.1. Document Preprocessing"
   ]
  },
  {
   "cell_type": "markdown",
   "id": "0213ab96-7afb-4628-bbe7-46fcf12f5d2c",
   "metadata": {},
   "source": [
    "### 7.1.1. Tokenization"
   ]
  },
  {
   "cell_type": "code",
   "execution_count": 47,
   "id": "43e481df-c27c-40b1-baa0-1a14e73cb8c5",
   "metadata": {},
   "outputs": [
    {
     "name": "stdout",
     "output_type": "stream",
     "text": [
      "['Between', '2016', 'and', '2019', 'the', 'state', 'forest', 'department', 'under', 'the', 'BJP', 'government', 'had', 'launched', 'Green', 'Maharashtra', 'drive', 'with', 'an', 'aim', 'to', 'plant', '50', 'crore', 'trees', 'across', 'the', 'state', 'in', 'the', 'four', 'year', 'period', 'In', 'October', '2019', 'the', 'government', 'had', 'claimed', 'it', 'had', 'surpassed', 'the', 'target', 'by', 'planting', '33', 'crore', 'trees', 'in', 'July', 'September', '2019', 'The', 'Indian', 'Express', 'had', 'found', 'that', 'non', 'forest', 'agencies', 'such', 'as', 'gram', 'panchayats', 'which', 'were', 'tasked', 'with', 'planting', 'trees', 'had', 'not', 'uploaded', 'the', 'mandatory', 'audio', 'visual', 'proof', 'of', 'the', 'tree', 'plantation', 'drives', 'on', 'the', 'specially', 'created', 'portal', 'In', 'Pune', 'Revenue', 'Division', 'it', 'was', 'claimed', 'the', 'gram', 'panchayats', 'planted', '1', '7', 'crore', 'saplings', 'however', 'no', 'evidence', 'was', 'uploaded', 'for', '87', 'per', 'cent', '1', '49', 'crore', 'saplings', 'Also', 'out', 'of', 'the', '59', 'government', 'agencies', 'involved', 'in', 'the', 'drive', 'as', 'many', 'as', '38', 'had', 'not', 'submitted', 'survival', 'reports', 'about', 'the', 'saplings', 'This', 'year', 'the', 'targets', 'set', 'by', 'the', 'forest', 'department', 'were', 'comparatively', 'modest', 'For', 'example', 'Pune', 'Circle', 'which', 'comprises', 'three', 'divisions', 'in', 'Pune', 'and', 'Solapur', 'district', 'had', 'planned', 'to', 'plant', '17', 'lakh', 'saplings', 'on', 'forest', 'land', 'However', 'it', 'may', 'not', 'meet', 'the', 'target', 'due', 'to', 'unavailability', 'of', 'funds', 'Last', 'year', 'Pune', 'Circle', 'planted', '70', 'lakh', 'saplings', 'on', 'forest', 'land', 'In', 'Pune', 'Division', 'which', 'comprises', 'six', 'talukas', 'namely', 'Maval', 'Mulshi', 'Daund', 'Indapur', 'Baramati', 'and', 'Havveli', 'preparations', 'were', 'done', 'for', 'plantation', 'of', 'about', '4', 'lakh', 'trees', 'with', 'special', 'emphasis', 'on', 'teakwood', 'The', 'National', 'Forest', 'Policy', 'aims', 'and', 'emphasizes', 'at', 'maintaining', '33', 'of', 'the', 'country', 's', 'geographical', 'area', 'under', 'forest', 'and', 'green', 'cover', 'In', 'view', 'of', 'this', 'and', 'as', 'a', 'part', 'of', 'the', '50', 'crore', 'plantation', 'programme', 'within', 'Maharashtra', 'the', 'Maharashtra', 'Forest', 'Department', 'aims', 'to', 'plant', '4', 'crore', 'saplings', 'all', 'over', 'the', 'State', 'between', '1st', 'to', 'July', '7th', '2017', 'to', 'celebrate', 'Vanmohotsav', 'The', 'plantation', 'programme', 'which', 'was', 'announced', 'in', '2016', 'with', 'the', 'aim', 'of', 'planting', '2', 'crore', 'trees', 'on', '1st', 'July', '2016', 'was', 'a', 'resounding', 'success', 'with', 'the', 'final', 'total', 'reported', 'figure', 'of', '2', '82', 'crore', 'saplings', 'planted', 'on', 'a', 'single', 'day', 'To', 'maintain', 'consistency', 'of', 'this', 'platform', 'without', 'affecting', 'its', 'momentum', 'the', 'Forest', 'Department', 'has', 'set', 'the', 'target', 'of', 'plantation', 'of', '4', 'crore', '13', 'crore', 'and', '33', 'crore', 'saplings', 'under', 'the', 'mission', 'of', '50', 'crore', 'plantation', 'which', 'shall', 'be', 'accomplished', 'in', 'the', 'three', 'consecutive', 'years', 'viz', '2017', '2018', 'and', '2019', 'The', '4', 'crore', 'saplings', 'for', 'the', 'year', '2017', 'will', 'be', 'planted', 'during', 'the', 'Vanmohotsav', 'July', '1st', 'to', 'July', '7th', 'in', 'a', 'state', 'wide', 'drive', 'with', 'the', 'involvement', 'of', '33', 'government', 'departments', 'along', 'with', 'Students', 'of', 'Schools', 'and', 'Colleges', 'NSS', 'NCC', 'CSR', 'NGOs', 'Railways', 'National', 'Highways', 'Defence', 'NABARD', 'and', 'other', 'stakeholders', 'of', 'Society', 'In', 'a', 'first', 'of', 'its', 'kind', 'a', '24', 'hour', 'toll', 'free', 'helpline', 'number', '1926', 'called', 'Hello', 'Forest', 'has', 'been', 'set', 'up', 'to', 'provide', 'information', 'regarding', 'plantation', 'protection', 'and', 'for', 'mass', 'awareness', 'The', 'Forest', 'Department', 'has', 'created', 'a', 'mobile', 'application', 'called', 'My', 'Plants', 'to', 'record', 'details', 'of', 'the', 'plantation', 'such', 'as', 'numbers', 'species', 'and', 'location', 'into', 'the', 'computer', 'system', 'of', 'the', 'Forest', 'Department', 'All', 'volunteers', 'at', 'individual', 'collective', 'and', 'organizational', 'level', 'should', 'download', 'and', 'use', 'this', 'application', 'to', 'record', 'their', 'tree', 'plantation', 'work', 'through', 'the', 'application', 'which', 'will', 'be', 'operational', 'from', '1st', 'July', 'to', '7th', 'July', 'In', 'consonance', 'of', 'the', 'public', 'participation', 'the', 'Maharashtra', 'Forest', 'Department', 'has', 'initiated', 'the', 'Maharashtra', 'Harit', 'Sena', 'Green', 'Army', 'which', 'is', 'a', 'body', 'of', 'dedicated', 'volunteers', 'to', 'participate', 'in', 'the', 'plantation', 'protection', 'and', 'activities', 'in', 'forest', 'wildlife', 'and', 'related', 'sectors', 'around', 'the', 'year', 'Individuals', 'and', 'organisations', 'interested', 'in', 'volunteering', 'can', 'register', 'on', 'the', 'Green', 'Army', 'website', 'www', 'greenarmy', 'mahaforest', 'gov', 'in', 'An', 'integrated', 'drive', 'has', 'been', 'set', 'in', 'place', 'to', 'ensure', 'seamless', 'and', 'successful', 'participation', 'from', 'all', 'stakeholders', 'of', 'society', 'especially', 'the', 'public']\n"
     ]
    }
   ],
   "source": [
    "# word tokenization\n",
    "word_tokens = nltk.word_tokenize( doc )\n",
    "print( word_tokens )"
   ]
  },
  {
   "cell_type": "code",
   "execution_count": 48,
   "id": "f4b6a373-5313-43da-9e2a-edce3dd77cea",
   "metadata": {},
   "outputs": [
    {
     "name": "stdout",
     "output_type": "stream",
     "text": [
      "['Between 2016 and 2019 the state forest department under the BJP government had launched Green Maharashtra drive with an aim to plant 50 crore trees across the state in the four year period In October 2019 the government had claimed it had surpassed the target by planting 33 crore trees in July September 2019 The Indian Express had found that non forest agencies such as gram panchayats which were tasked with planting trees had not uploaded the mandatory audio visual proof of the tree plantation drives on the specially created portal In Pune Revenue Division it was claimed the gram panchayats planted 1 7 crore saplings however no evidence was uploaded for 87 per cent 1 49 crore saplings Also out of the 59 government agencies involved in the drive as many as 38 had not submitted survival reports about the saplings This year the targets set by the forest department were comparatively modest For example Pune Circle which comprises three divisions in Pune and Solapur district had planned to plant 17 lakh saplings on forest land However it may not meet the target due to unavailability of funds Last year Pune Circle planted 70 lakh saplings on forest land In Pune Division which comprises six talukas namely Maval Mulshi Daund Indapur Baramati and Havveli preparations were done for plantation of about 4 lakh trees with special emphasis on teakwood The National Forest Policy aims and emphasizes at maintaining 33 of the country s geographical area under forest and green cover In view of this and as a part of the 50 crore plantation programme within Maharashtra the Maharashtra Forest Department aims to plant 4 crore saplings all over the State between 1st to July 7th 2017 to celebrate Vanmohotsav The plantation programme which was announced in 2016 with the aim of planting 2 crore trees on 1st July 2016 was a resounding success with the final total reported figure of 2 82 crore saplings planted on a single day To maintain consistency of this platform without affecting its momentum the Forest Department has set the target of plantation of 4 crore 13 crore and 33 crore saplings under the mission of 50 crore plantation which shall be accomplished in the three consecutive years viz 2017 2018 and 2019 The 4 crore saplings for the year 2017 will be planted during the Vanmohotsav July 1st to July 7th in a state wide drive with the involvement of 33 government departments along with Students of Schools and Colleges NSS NCC CSR NGOs Railways National Highways Defence NABARD and other stakeholders of Society In a first of its kind a 24 hour toll free helpline number 1926 called Hello Forest has been set up to provide information regarding plantation protection and for mass awareness The Forest Department has created a mobile application called My Plants to record details of the plantation such as numbers species and location into the computer system of the Forest Department All volunteers at individual collective and organizational level should download and use this application to record their tree plantation work through the application which will be operational from 1st July to 7th July In consonance of the public participation the Maharashtra Forest Department has initiated the Maharashtra Harit Sena Green Army which is a body of dedicated volunteers to participate in the plantation protection and activities in forest wildlife and related sectors around the year Individuals and organisations interested in volunteering can register on the Green Army website www greenarmy mahaforest gov in An integrated drive has been set in place to ensure seamless and successful participation from all stakeholders of society especially the public']\n"
     ]
    }
   ],
   "source": [
    "# sentence tokenization \n",
    "sent_tokens = nltk.sent_tokenize( doc )\n",
    "print( sent_tokens )"
   ]
  },
  {
   "cell_type": "markdown",
   "id": "95338917-c670-46d2-bdba-a1e274e13657",
   "metadata": {},
   "source": [
    "### 7.1.2. Stop word removal\n"
   ]
  },
  {
   "cell_type": "code",
   "execution_count": 49,
   "id": "73816b90-74bf-403d-a9d5-91670a725d7f",
   "metadata": {},
   "outputs": [
    {
     "name": "stdout",
     "output_type": "stream",
     "text": [
      "['Between', '2016', '2019', 'state', 'forest', 'department', 'BJP', 'government', 'launched', 'Green', 'Maharashtra', 'drive', 'aim', 'plant', '50', 'crore', 'trees', 'across', 'state', 'four', 'year', 'period', 'In', 'October', '2019', 'government', 'claimed', 'surpassed', 'target', 'planting', '33', 'crore', 'trees', 'July', 'September', '2019', 'The', 'Indian', 'Express', 'found', 'non', 'forest', 'agencies', 'gram', 'panchayats', 'tasked', 'planting', 'trees', 'uploaded', 'mandatory', 'audio', 'visual', 'proof', 'tree', 'plantation', 'drives', 'specially', 'created', 'portal', 'In', 'Pune', 'Revenue', 'Division', 'claimed', 'gram', 'panchayats', 'planted', '1', '7', 'crore', 'saplings', 'however', 'evidence', 'uploaded', '87', 'per', 'cent', '1', '49', 'crore', 'saplings', 'Also', '59', 'government', 'agencies', 'involved', 'drive', 'many', '38', 'submitted', 'survival', 'reports', 'saplings', 'This', 'year', 'targets', 'set', 'forest', 'department', 'comparatively', 'modest', 'For', 'example', 'Pune', 'Circle', 'comprises', 'three', 'divisions', 'Pune', 'Solapur', 'district', 'planned', 'plant', '17', 'lakh', 'saplings', 'forest', 'land', 'However', 'may', 'meet', 'target', 'due', 'unavailability', 'funds', 'Last', 'year', 'Pune', 'Circle', 'planted', '70', 'lakh', 'saplings', 'forest', 'land', 'In', 'Pune', 'Division', 'comprises', 'six', 'talukas', 'namely', 'Maval', 'Mulshi', 'Daund', 'Indapur', 'Baramati', 'Havveli', 'preparations', 'done', 'plantation', '4', 'lakh', 'trees', 'special', 'emphasis', 'teakwood', 'The', 'National', 'Forest', 'Policy', 'aims', 'emphasizes', 'maintaining', '33', 'country', 'geographical', 'area', 'forest', 'green', 'cover', 'In', 'view', 'part', '50', 'crore', 'plantation', 'programme', 'within', 'Maharashtra', 'Maharashtra', 'Forest', 'Department', 'aims', 'plant', '4', 'crore', 'saplings', 'State', '1st', 'July', '7th', '2017', 'celebrate', 'Vanmohotsav', 'The', 'plantation', 'programme', 'announced', '2016', 'aim', 'planting', '2', 'crore', 'trees', '1st', 'July', '2016', 'resounding', 'success', 'final', 'total', 'reported', 'figure', '2', '82', 'crore', 'saplings', 'planted', 'single', 'day', 'To', 'maintain', 'consistency', 'platform', 'without', 'affecting', 'momentum', 'Forest', 'Department', 'set', 'target', 'plantation', '4', 'crore', '13', 'crore', '33', 'crore', 'saplings', 'mission', '50', 'crore', 'plantation', 'shall', 'accomplished', 'three', 'consecutive', 'years', 'viz', '2017', '2018', '2019', 'The', '4', 'crore', 'saplings', 'year', '2017', 'planted', 'Vanmohotsav', 'July', '1st', 'July', '7th', 'state', 'wide', 'drive', 'involvement', '33', 'government', 'departments', 'along', 'Students', 'Schools', 'Colleges', 'NSS', 'NCC', 'CSR', 'NGOs', 'Railways', 'National', 'Highways', 'Defence', 'NABARD', 'stakeholders', 'Society', 'In', 'first', 'kind', '24', 'hour', 'toll', 'free', 'helpline', 'number', '1926', 'called', 'Hello', 'Forest', 'set', 'provide', 'information', 'regarding', 'plantation', 'protection', 'mass', 'awareness', 'The', 'Forest', 'Department', 'created', 'mobile', 'application', 'called', 'My', 'Plants', 'record', 'details', 'plantation', 'numbers', 'species', 'location', 'computer', 'system', 'Forest', 'Department', 'All', 'volunteers', 'individual', 'collective', 'organizational', 'level', 'download', 'use', 'application', 'record', 'tree', 'plantation', 'work', 'application', 'operational', '1st', 'July', '7th', 'July', 'In', 'consonance', 'public', 'participation', 'Maharashtra', 'Forest', 'Department', 'initiated', 'Maharashtra', 'Harit', 'Sena', 'Green', 'Army', 'body', 'dedicated', 'volunteers', 'participate', 'plantation', 'protection', 'activities', 'forest', 'wildlife', 'related', 'sectors', 'around', 'year', 'Individuals', 'organisations', 'interested', 'volunteering', 'register', 'Green', 'Army', 'website', 'www', 'greenarmy', 'mahaforest', 'gov', 'An', 'integrated', 'drive', 'set', 'place', 'ensure', 'seamless', 'successful', 'participation', 'stakeholders', 'society', 'especially', 'public']\n"
     ]
    }
   ],
   "source": [
    "stop_words = set(nltk.corpus.stopwords.words('english'))\n",
    "word_tokens = [ token for token in word_tokens if token not in stop_words ]\n",
    "print( word_tokens )"
   ]
  },
  {
   "cell_type": "markdown",
   "id": "fb8c1fba-709a-44be-96c5-4016de426b63",
   "metadata": {},
   "source": [
    "### 7.1.3. Parts of Speech Tagging"
   ]
  },
  {
   "cell_type": "code",
   "execution_count": 50,
   "id": "a71b87e4-79e5-4dc6-9e6e-c2b784dae0cc",
   "metadata": {},
   "outputs": [
    {
     "name": "stdout",
     "output_type": "stream",
     "text": [
      "[('Between', 'IN'), ('2016', 'CD'), ('2019', 'CD'), ('state', 'NN'), ('forest', 'JJS'), ('department', 'NN'), ('BJP', 'NNP'), ('government', 'NN'), ('launched', 'VBD'), ('Green', 'NNP'), ('Maharashtra', 'NNP'), ('drive', 'NN'), ('aim', 'NN'), ('plant', 'NN'), ('50', 'CD'), ('crore', 'NN'), ('trees', 'NNS'), ('across', 'IN'), ('state', 'NN'), ('four', 'CD'), ('year', 'NN'), ('period', 'NN'), ('In', 'IN'), ('October', 'NNP'), ('2019', 'CD'), ('government', 'NN'), ('claimed', 'VBD'), ('surpassed', 'JJ'), ('target', 'NN'), ('planting', 'VBG'), ('33', 'CD'), ('crore', 'NN'), ('trees', 'NNS'), ('July', 'NNP'), ('September', 'NNP'), ('2019', 'CD'), ('The', 'DT'), ('Indian', 'NNP'), ('Express', 'NNP'), ('found', 'VBD'), ('non', 'RB'), ('forest', 'JJ'), ('agencies', 'NNS'), ('gram', 'VBP'), ('panchayats', 'NNS'), ('tasked', 'VBD'), ('planting', 'VBG'), ('trees', 'NNS'), ('uploaded', 'JJ'), ('mandatory', 'JJ'), ('audio', 'JJ'), ('visual', 'JJ'), ('proof', 'NN'), ('tree', 'JJ'), ('plantation', 'NN'), ('drives', 'NNS'), ('specially', 'RB'), ('created', 'VBD'), ('portal', 'NN'), ('In', 'IN'), ('Pune', 'NNP'), ('Revenue', 'NNP'), ('Division', 'NNP'), ('claimed', 'VBD'), ('gram', 'JJ'), ('panchayats', 'NNS'), ('planted', 'VBD'), ('1', 'CD'), ('7', 'CD'), ('crore', 'NN'), ('saplings', 'NNS'), ('however', 'RB'), ('evidence', 'NN'), ('uploaded', 'VBD'), ('87', 'CD'), ('per', 'IN'), ('cent', 'NN'), ('1', 'CD'), ('49', 'CD'), ('crore', 'NN'), ('saplings', 'NNS'), ('Also', 'RB'), ('59', 'CD'), ('government', 'NN'), ('agencies', 'NNS'), ('involved', 'VBD'), ('drive', 'JJ'), ('many', 'JJ'), ('38', 'CD'), ('submitted', 'VBD'), ('survival', 'NN'), ('reports', 'NNS'), ('saplings', 'NNS'), ('This', 'DT'), ('year', 'NN'), ('targets', 'VBZ'), ('set', 'VBN'), ('forest', 'JJS'), ('department', 'NN'), ('comparatively', 'RB'), ('modest', 'JJ'), ('For', 'IN'), ('example', 'NN'), ('Pune', 'NNP'), ('Circle', 'NNP'), ('comprises', 'VBZ'), ('three', 'CD'), ('divisions', 'NNS'), ('Pune', 'NNP'), ('Solapur', 'NNP'), ('district', 'NN'), ('planned', 'VBD'), ('plant', 'NN'), ('17', 'CD'), ('lakh', 'JJ'), ('saplings', 'NNS'), ('forest', 'JJS'), ('land', 'NN'), ('However', 'RB'), ('may', 'MD'), ('meet', 'VB'), ('target', 'NN'), ('due', 'JJ'), ('unavailability', 'NN'), ('funds', 'NNS'), ('Last', 'JJ'), ('year', 'NN'), ('Pune', 'NNP'), ('Circle', 'NNP'), ('planted', 'VBD'), ('70', 'CD'), ('lakh', 'JJ'), ('saplings', 'NNS'), ('forest', 'JJS'), ('land', 'NN'), ('In', 'IN'), ('Pune', 'NNP'), ('Division', 'NNP'), ('comprises', 'VBZ'), ('six', 'CD'), ('talukas', 'NN'), ('namely', 'RB'), ('Maval', 'NNP'), ('Mulshi', 'NNP'), ('Daund', 'NNP'), ('Indapur', 'NNP'), ('Baramati', 'NNP'), ('Havveli', 'NNP'), ('preparations', 'NNS'), ('done', 'VBN'), ('plantation', 'NN'), ('4', 'CD'), ('lakh', 'NN'), ('trees', 'NNS'), ('special', 'JJ'), ('emphasis', 'NN'), ('teakwood', 'VBD'), ('The', 'DT'), ('National', 'NNP'), ('Forest', 'NNP'), ('Policy', 'NNP'), ('aims', 'VBZ'), ('emphasizes', 'VBZ'), ('maintaining', 'VBG'), ('33', 'CD'), ('country', 'NN'), ('geographical', 'JJ'), ('area', 'NN'), ('forest', 'JJS'), ('green', 'JJ'), ('cover', 'NN'), ('In', 'IN'), ('view', 'JJ'), ('part', 'NN'), ('50', 'CD'), ('crore', 'NN'), ('plantation', 'NN'), ('programme', 'NN'), ('within', 'IN'), ('Maharashtra', 'NNP'), ('Maharashtra', 'NNP'), ('Forest', 'NNP'), ('Department', 'NNP'), ('aims', 'VBZ'), ('plant', 'NN'), ('4', 'CD'), ('crore', 'NN'), ('saplings', 'NNS'), ('State', 'NNP'), ('1st', 'CD'), ('July', 'NNP'), ('7th', 'CD'), ('2017', 'CD'), ('celebrate', 'NN'), ('Vanmohotsav', 'NNP'), ('The', 'DT'), ('plantation', 'NN'), ('programme', 'NN'), ('announced', 'VBD'), ('2016', 'CD'), ('aim', 'NN'), ('planting', 'VBG'), ('2', 'CD'), ('crore', 'NN'), ('trees', 'NNS'), ('1st', 'CD'), ('July', 'NNP'), ('2016', 'CD'), ('resounding', 'VBG'), ('success', 'NN'), ('final', 'JJ'), ('total', 'NN'), ('reported', 'VBD'), ('figure', 'NN'), ('2', 'CD'), ('82', 'CD'), ('crore', 'NN'), ('saplings', 'NNS'), ('planted', 'VBD'), ('single', 'JJ'), ('day', 'NN'), ('To', 'TO'), ('maintain', 'VB'), ('consistency', 'NN'), ('platform', 'NN'), ('without', 'IN'), ('affecting', 'VBG'), ('momentum', 'NN'), ('Forest', 'NNP'), ('Department', 'NNP'), ('set', 'VBD'), ('target', 'NN'), ('plantation', 'NN'), ('4', 'CD'), ('crore', 'NN'), ('13', 'CD'), ('crore', 'NN'), ('33', 'CD'), ('crore', 'NN'), ('saplings', 'NNS'), ('mission', 'NN'), ('50', 'CD'), ('crore', 'NN'), ('plantation', 'NN'), ('shall', 'MD'), ('accomplished', 'VB'), ('three', 'CD'), ('consecutive', 'JJ'), ('years', 'NNS'), ('viz', 'IN'), ('2017', 'CD'), ('2018', 'CD'), ('2019', 'CD'), ('The', 'DT'), ('4', 'CD'), ('crore', 'NN'), ('saplings', 'NNS'), ('year', 'NN'), ('2017', 'CD'), ('planted', 'VBD'), ('Vanmohotsav', 'NNP'), ('July', 'NNP'), ('1st', 'CD'), ('July', 'NNP'), ('7th', 'CD'), ('state', 'NN'), ('wide', 'JJ'), ('drive', 'NN'), ('involvement', 'NN'), ('33', 'CD'), ('government', 'NN'), ('departments', 'NNS'), ('along', 'IN'), ('Students', 'NNS'), ('Schools', 'NNP'), ('Colleges', 'NNP'), ('NSS', 'NNP'), ('NCC', 'NNP'), ('CSR', 'NNP'), ('NGOs', 'NNP'), ('Railways', 'NNP'), ('National', 'NNP'), ('Highways', 'NNP'), ('Defence', 'NNP'), ('NABARD', 'NNP'), ('stakeholders', 'NNS'), ('Society', 'NNP'), ('In', 'IN'), ('first', 'JJ'), ('kind', 'NN'), ('24', 'CD'), ('hour', 'NN'), ('toll', 'NN'), ('free', 'JJ'), ('helpline', 'NN'), ('number', 'NN'), ('1926', 'CD'), ('called', 'VBD'), ('Hello', 'NNP'), ('Forest', 'NNP'), ('set', 'VBD'), ('provide', 'JJ'), ('information', 'NN'), ('regarding', 'VBG'), ('plantation', 'NN'), ('protection', 'NN'), ('mass', 'NN'), ('awareness', 'IN'), ('The', 'DT'), ('Forest', 'NNP'), ('Department', 'NNP'), ('created', 'VBD'), ('mobile', 'JJ'), ('application', 'NN'), ('called', 'VBN'), ('My', 'PRP$'), ('Plants', 'NNS'), ('record', 'NN'), ('details', 'NNS'), ('plantation', 'NN'), ('numbers', 'NNS'), ('species', 'NNS'), ('location', 'VBP'), ('computer', 'NN'), ('system', 'NN'), ('Forest', 'NNP'), ('Department', 'NNP'), ('All', 'NNP'), ('volunteers', 'NNS'), ('individual', 'JJ'), ('collective', 'JJ'), ('organizational', 'JJ'), ('level', 'NN'), ('download', 'NN'), ('use', 'NN'), ('application', 'NN'), ('record', 'NN'), ('tree', 'NN'), ('plantation', 'NN'), ('work', 'NN'), ('application', 'NN'), ('operational', 'JJ'), ('1st', 'CD'), ('July', 'NNP'), ('7th', 'CD'), ('July', 'NNP'), ('In', 'IN'), ('consonance', 'NN'), ('public', 'JJ'), ('participation', 'NN'), ('Maharashtra', 'NNP'), ('Forest', 'NNP'), ('Department', 'NNP'), ('initiated', 'VBD'), ('Maharashtra', 'NNP'), ('Harit', 'NNP'), ('Sena', 'NNP'), ('Green', 'NNP'), ('Army', 'NNP'), ('body', 'NN'), ('dedicated', 'VBD'), ('volunteers', 'NNS'), ('participate', 'VB'), ('plantation', 'NN'), ('protection', 'NN'), ('activities', 'NNS'), ('forest', 'VBP'), ('wildlife', 'NN'), ('related', 'JJ'), ('sectors', 'NNS'), ('around', 'IN'), ('year', 'NN'), ('Individuals', 'NNP'), ('organisations', 'NNS'), ('interested', 'JJ'), ('volunteering', 'VBG'), ('register', 'NN'), ('Green', 'NNP'), ('Army', 'NNP'), ('website', 'NN'), ('www', 'NN'), ('greenarmy', 'NN'), ('mahaforest', 'JJS'), ('gov', 'NN'), ('An', 'DT'), ('integrated', 'JJ'), ('drive', 'NN'), ('set', 'VBN'), ('place', 'NN'), ('ensure', 'VB'), ('seamless', 'JJ'), ('successful', 'JJ'), ('participation', 'NN'), ('stakeholders', 'NNS'), ('society', 'VBP'), ('especially', 'RB'), ('public', 'JJ')]\n"
     ]
    }
   ],
   "source": [
    "tags = nltk.pos_tag( word_tokens )\n",
    "print( tags )"
   ]
  },
  {
   "cell_type": "markdown",
   "id": "6318b807-b60c-42a7-a815-98fd60d2914f",
   "metadata": {},
   "source": [
    "### 7.1.4. Lemmatization"
   ]
  },
  {
   "cell_type": "code",
   "execution_count": 51,
   "id": "42ed825a-c84b-43e5-9a43-1e64f1f912dd",
   "metadata": {},
   "outputs": [
    {
     "name": "stdout",
     "output_type": "stream",
     "text": [
      "['Between', '2016', '2019', 'state', 'forest', 'department', 'BJP', 'government', 'launched', 'Green', 'Maharashtra', 'drive', 'aim', 'plant', '50', 'crore', 'tree', 'across', 'state', 'four', 'year', 'period', 'In', 'October', '2019', 'government', 'claimed', 'surpassed', 'target', 'planting', '33', 'crore', 'tree', 'July', 'September', '2019', 'The', 'Indian', 'Express', 'found', 'non', 'forest', 'agency', 'gram', 'panchayat', 'tasked', 'planting', 'tree', 'uploaded', 'mandatory', 'audio', 'visual', 'proof', 'tree', 'plantation', 'drive', 'specially', 'created', 'portal', 'In', 'Pune', 'Revenue', 'Division', 'claimed', 'gram', 'panchayat', 'planted', '1', '7', 'crore', 'sapling', 'however', 'evidence', 'uploaded', '87', 'per', 'cent', '1', '49', 'crore', 'sapling', 'Also', '59', 'government', 'agency', 'involved', 'drive', 'many', '38', 'submitted', 'survival', 'report', 'sapling', 'This', 'year', 'target', 'set', 'forest', 'department', 'comparatively', 'modest', 'For', 'example', 'Pune', 'Circle', 'comprises', 'three', 'division', 'Pune', 'Solapur', 'district', 'planned', 'plant', '17', 'lakh', 'sapling', 'forest', 'land', 'However', 'may', 'meet', 'target', 'due', 'unavailability', 'fund', 'Last', 'year', 'Pune', 'Circle', 'planted', '70', 'lakh', 'sapling', 'forest', 'land', 'In', 'Pune', 'Division', 'comprises', 'six', 'talukas', 'namely', 'Maval', 'Mulshi', 'Daund', 'Indapur', 'Baramati', 'Havveli', 'preparation', 'done', 'plantation', '4', 'lakh', 'tree', 'special', 'emphasis', 'teakwood', 'The', 'National', 'Forest', 'Policy', 'aim', 'emphasizes', 'maintaining', '33', 'country', 'geographical', 'area', 'forest', 'green', 'cover', 'In', 'view', 'part', '50', 'crore', 'plantation', 'programme', 'within', 'Maharashtra', 'Maharashtra', 'Forest', 'Department', 'aim', 'plant', '4', 'crore', 'sapling', 'State', '1st', 'July', '7th', '2017', 'celebrate', 'Vanmohotsav', 'The', 'plantation', 'programme', 'announced', '2016', 'aim', 'planting', '2', 'crore', 'tree', '1st', 'July', '2016', 'resounding', 'success', 'final', 'total', 'reported', 'figure', '2', '82', 'crore', 'sapling', 'planted', 'single', 'day', 'To', 'maintain', 'consistency', 'platform', 'without', 'affecting', 'momentum', 'Forest', 'Department', 'set', 'target', 'plantation', '4', 'crore', '13', 'crore', '33', 'crore', 'sapling', 'mission', '50', 'crore', 'plantation', 'shall', 'accomplished', 'three', 'consecutive', 'year', 'viz', '2017', '2018', '2019', 'The', '4', 'crore', 'sapling', 'year', '2017', 'planted', 'Vanmohotsav', 'July', '1st', 'July', '7th', 'state', 'wide', 'drive', 'involvement', '33', 'government', 'department', 'along', 'Students', 'Schools', 'Colleges', 'NSS', 'NCC', 'CSR', 'NGOs', 'Railways', 'National', 'Highways', 'Defence', 'NABARD', 'stakeholder', 'Society', 'In', 'first', 'kind', '24', 'hour', 'toll', 'free', 'helpline', 'number', '1926', 'called', 'Hello', 'Forest', 'set', 'provide', 'information', 'regarding', 'plantation', 'protection', 'mass', 'awareness', 'The', 'Forest', 'Department', 'created', 'mobile', 'application', 'called', 'My', 'Plants', 'record', 'detail', 'plantation', 'number', 'specie', 'location', 'computer', 'system', 'Forest', 'Department', 'All', 'volunteer', 'individual', 'collective', 'organizational', 'level', 'download', 'use', 'application', 'record', 'tree', 'plantation', 'work', 'application', 'operational', '1st', 'July', '7th', 'July', 'In', 'consonance', 'public', 'participation', 'Maharashtra', 'Forest', 'Department', 'initiated', 'Maharashtra', 'Harit', 'Sena', 'Green', 'Army', 'body', 'dedicated', 'volunteer', 'participate', 'plantation', 'protection', 'activity', 'forest', 'wildlife', 'related', 'sector', 'around', 'year', 'Individuals', 'organisation', 'interested', 'volunteering', 'register', 'Green', 'Army', 'website', 'www', 'greenarmy', 'mahaforest', 'gov', 'An', 'integrated', 'drive', 'set', 'place', 'ensure', 'seamless', 'successful', 'participation', 'stakeholder', 'society', 'especially', 'public']\n"
     ]
    }
   ],
   "source": [
    "lemmatizer = nltk.stem.WordNetLemmatizer()\n",
    "lemmatized_tokens = [ lemmatizer.lemmatize( token ) for token in word_tokens ]\n",
    "print( lemmatized_tokens )"
   ]
  },
  {
   "cell_type": "markdown",
   "id": "9975fdf4-5895-4ab1-aa29-f626e2c47ad7",
   "metadata": {},
   "source": [
    "### 7.1.5. Stemming"
   ]
  },
  {
   "cell_type": "code",
   "execution_count": 52,
   "id": "3434daf3-5d11-4c0f-a381-388da3c56b80",
   "metadata": {},
   "outputs": [
    {
     "name": "stdout",
     "output_type": "stream",
     "text": [
      "['between', '2016', '2019', 'state', 'forest', 'depart', 'bjp', 'govern', 'launch', 'green', 'maharashtra', 'drive', 'aim', 'plant', '50', 'crore', 'tree', 'across', 'state', 'four', 'year', 'period', 'in', 'octob', '2019', 'govern', 'claim', 'surpass', 'target', 'plant', '33', 'crore', 'tree', 'juli', 'septemb', '2019', 'the', 'indian', 'express', 'found', 'non', 'forest', 'agenc', 'gram', 'panchayat', 'task', 'plant', 'tree', 'upload', 'mandatori', 'audio', 'visual', 'proof', 'tree', 'plantat', 'drive', 'special', 'creat', 'portal', 'in', 'pune', 'revenu', 'divis', 'claim', 'gram', 'panchayat', 'plant', '1', '7', 'crore', 'sapl', 'howev', 'evid', 'upload', '87', 'per', 'cent', '1', '49', 'crore', 'sapl', 'also', '59', 'govern', 'agenc', 'involv', 'drive', 'mani', '38', 'submit', 'surviv', 'report', 'sapl', 'thi', 'year', 'target', 'set', 'forest', 'depart', 'compar', 'modest', 'for', 'exampl', 'pune', 'circl', 'compris', 'three', 'divis', 'pune', 'solapur', 'district', 'plan', 'plant', '17', 'lakh', 'sapl', 'forest', 'land', 'howev', 'may', 'meet', 'target', 'due', 'unavail', 'fund', 'last', 'year', 'pune', 'circl', 'plant', '70', 'lakh', 'sapl', 'forest', 'land', 'in', 'pune', 'divis', 'compris', 'six', 'taluka', 'name', 'maval', 'mulshi', 'daund', 'indapur', 'baramati', 'havv', 'prepar', 'done', 'plantat', '4', 'lakh', 'tree', 'special', 'emphasi', 'teakwood', 'the', 'nation', 'forest', 'polici', 'aim', 'emphas', 'maintain', '33', 'countri', 'geograph', 'area', 'forest', 'green', 'cover', 'in', 'view', 'part', '50', 'crore', 'plantat', 'programm', 'within', 'maharashtra', 'maharashtra', 'forest', 'depart', 'aim', 'plant', '4', 'crore', 'sapl', 'state', '1st', 'juli', '7th', '2017', 'celebr', 'vanmohotsav', 'the', 'plantat', 'programm', 'announc', '2016', 'aim', 'plant', '2', 'crore', 'tree', '1st', 'juli', '2016', 'resound', 'success', 'final', 'total', 'report', 'figur', '2', '82', 'crore', 'sapl', 'plant', 'singl', 'day', 'to', 'maintain', 'consist', 'platform', 'without', 'affect', 'momentum', 'forest', 'depart', 'set', 'target', 'plantat', '4', 'crore', '13', 'crore', '33', 'crore', 'sapl', 'mission', '50', 'crore', 'plantat', 'shall', 'accomplish', 'three', 'consecut', 'year', 'viz', '2017', '2018', '2019', 'the', '4', 'crore', 'sapl', 'year', '2017', 'plant', 'vanmohotsav', 'juli', '1st', 'juli', '7th', 'state', 'wide', 'drive', 'involv', '33', 'govern', 'depart', 'along', 'student', 'school', 'colleg', 'nss', 'ncc', 'csr', 'ngo', 'railway', 'nation', 'highway', 'defenc', 'nabard', 'stakehold', 'societi', 'in', 'first', 'kind', '24', 'hour', 'toll', 'free', 'helplin', 'number', '1926', 'call', 'hello', 'forest', 'set', 'provid', 'inform', 'regard', 'plantat', 'protect', 'mass', 'awar', 'the', 'forest', 'depart', 'creat', 'mobil', 'applic', 'call', 'my', 'plant', 'record', 'detail', 'plantat', 'number', 'speci', 'locat', 'comput', 'system', 'forest', 'depart', 'all', 'volunt', 'individu', 'collect', 'organiz', 'level', 'download', 'use', 'applic', 'record', 'tree', 'plantat', 'work', 'applic', 'oper', '1st', 'juli', '7th', 'juli', 'in', 'conson', 'public', 'particip', 'maharashtra', 'forest', 'depart', 'initi', 'maharashtra', 'harit', 'sena', 'green', 'armi', 'bodi', 'dedic', 'volunt', 'particip', 'plantat', 'protect', 'activ', 'forest', 'wildlif', 'relat', 'sector', 'around', 'year', 'individu', 'organis', 'interest', 'volunt', 'regist', 'green', 'armi', 'websit', 'www', 'greenarmi', 'mahaforest', 'gov', 'an', 'integr', 'drive', 'set', 'place', 'ensur', 'seamless', 'success', 'particip', 'stakehold', 'societi', 'especi', 'public']\n"
     ]
    }
   ],
   "source": [
    "from nltk.stem import PorterStemmer\n",
    "\n",
    "stemmer = PorterStemmer()\n",
    "stemmed_tokens = [ stemmer.stem(token) for token in word_tokens ]\n",
    "print( stemmed_tokens )"
   ]
  },
  {
   "cell_type": "markdown",
   "id": "9b3cc9f9-9e7f-4b05-8faf-0f9276b5d4e9",
   "metadata": {},
   "source": [
    "## 7.2. TF and IDF"
   ]
  },
  {
   "cell_type": "code",
   "execution_count": 58,
   "id": "dc2aaf57-54ca-4297-9b47-0bfbcb70906b",
   "metadata": {},
   "outputs": [],
   "source": [
    "import numpy as np\n",
    "\n",
    "def calc_term_freq(\n",
    "    doc\n",
    "):\n",
    "    word_tokens = nltk.word_tokenize( doc )\n",
    "    num_tokens = len( word_tokens )\n",
    "    unique_tokens , freqs = np.unique( word_tokens , return_counts=True )\n",
    "    tf = {}\n",
    "    for token , freq in zip( unique_tokens , freqs ):\n",
    "        tf[ token ] = freq / num_tokens\n",
    "    return tf\n",
    "\n",
    "tf = calc_term_freq( doc )\n",
    "tf_2 = calc_term_freq( doc_2 )"
   ]
  },
  {
   "cell_type": "code",
   "execution_count": 59,
   "id": "0ea732d8-f179-4983-b8e6-97652a34414c",
   "metadata": {},
   "outputs": [],
   "source": [
    "import math\n",
    "\n",
    "with open( \"doc_02\" , \"r\" ) as file:\n",
    "    doc_2 = file.read()\n",
    "doc_2 = re.sub('[\\W_]+', ' ', doc_2 )\n",
    "\n",
    "doc_1_tokens = nltk.word_tokenize( doc )\n",
    "doc_2_tokens = nltk.word_tokenize( doc_2 )\n",
    "\n",
    "def calc_idf():\n",
    "    N = 2\n",
    "    all_tokens = doc_1_tokens + doc_2_tokens\n",
    "    idf = {}\n",
    "    for token in all_tokens:\n",
    "        f = 1\n",
    "        if token in doc_1_tokens:\n",
    "            f += 1\n",
    "        if token in doc_2_tokens:\n",
    "            f += 1\n",
    "        idf[ token ] = math.log( N / f )\n",
    "    return idf\n",
    "\n",
    "idf = calc_idf()"
   ]
  },
  {
   "cell_type": "code",
   "execution_count": 60,
   "id": "9de1aa3c-896e-47cc-977b-24fef59b71d8",
   "metadata": {},
   "outputs": [],
   "source": [
    "doc_1_repr = []\n",
    "for token in doc_1_tokens:\n",
    "    doc_1_repr.append( tf[ token ] * idf[token] )\n",
    "doc_2_repr = []\n",
    "for token in doc_2_tokens:\n",
    "    doc_2_repr.append( tf_2[ token ] * idf[token] )"
   ]
  },
  {
   "cell_type": "code",
   "execution_count": 56,
   "id": "db2ff130-ad13-4b55-b499-31ee1ac504f3",
   "metadata": {},
   "outputs": [
    {
     "name": "stdout",
     "output_type": "stream",
     "text": [
      "[0.0, 0.0, -0.012003901226886446, -0.0026675336059747657, -0.02667533605974766, -0.0020006502044810745, -0.004668183810455841, 0.0, -0.0020006502044810745, -0.02667533605974766, 0.0, -0.0026675336059747657, 0.0, 0.0, 0.0, 0.0, -0.0026675336059747657, 0.0, -0.0006668834014936914, 0.0, -0.00866948421941799, 0.0, 0.0, 0.0, -0.0033344170074684574, -0.0006668834014936914, -0.02667533605974766, -0.0020006502044810745, -0.008002600817924298, -0.02667533605974766, -0.0006668834014936914, 0.0, 0.0, 0.0, 0.0, -0.0026675336059747657, -0.02667533605974766, -0.0026675336059747657, 0.0, 0.0, 0.0, 0.0, 0.0, -0.02667533605974766, 0.0, -0.0013337668029873829, -0.0020006502044810745, 0.0, 0.0, -0.0033344170074684574, -0.008002600817924298, 0.0, 0.0, -0.0026675336059747657, -0.0033344170074684574, -0.0006668834014936914, -0.0006668834014936914, 0.0, 0.0, -0.0006668834014936914, 0.0, -0.004668183810455841, 0.0, 0.0, -0.0033344170074684574, 0.0, 0.0, 0.0, -0.0020006502044810745, 0.0, 0.0, -0.0020006502044810745, -0.0033344170074684574, 0.0, -0.0020006502044810745, 0.0, -0.02667533605974766, 0.0, 0.0, 0.0, 0.0, -0.014671434832861215, -0.02667533605974766, -0.0013337668029873829, -0.006668834014936915, -0.0006668834014936914, -0.004668183810455841, -0.02667533605974766, 0.0, 0.0, 0.0, 0.0, 0.0, 0.0, 0.0, 0.0, -0.0026675336059747657, 0.0, -0.02667533605974766, 0.0, 0.0, -0.0026675336059747657, 0.0, 0.0, 0.0, -0.006001950613443223, 0.0, 0.0, 0.0, -0.0026675336059747657, 0.0, -0.0026675336059747657, 0.0, 0.0, 0.0, 0.0, 0.0, 0.0, -0.006001950613443223, 0.0, -0.0006668834014936914, -0.014671434832861215, -0.02667533605974766, 0.0, -0.0026675336059747657, 0.0, 0.0, -0.008002600817924298, -0.02667533605974766, -0.0026675336059747657, -0.0033344170074684574, -0.0006668834014936914, -0.0033344170074684574, 0.0, 0.0, -0.0020006502044810745, 0.0, -0.0006668834014936914, 0.0, -0.0013337668029873829, -0.02667533605974766, -0.006001950613443223, 0.0, 0.0, -0.02667533605974766, 0.0, 0.0, -0.0013337668029873829, -0.02667533605974766, -0.004668183810455841, 0.0, -0.0020006502044810745, 0.0, 0.0, 0.0, 0.0, 0.0, 0.0, 0.0, 0.0, 0.0, 0.0, -0.008002600817924298, 0.0, -0.012003901226886446, 0.0, 0.0, 0.0, 0.0, -0.00866948421941799, 0.0, 0.0, 0.0, -0.006001950613443223, -0.004668183810455841, -0.004668183810455841, -0.0013337668029873829, -0.0006668834014936914, 0.0, 0.0, -0.0020006502044810745, 0.0, -0.02667533605974766, 0.0, 0.0, -0.00866948421941799, 0.0, -0.014671434832861215, 0.0, 0.0, 0.0, 0.0, 0.0, -0.0026675336059747657, 0.0, 0.0, -0.006001950613443223, -0.004668183810455841, -0.004668183810455841, -0.0013337668029873829, 0.0, 0.0, 0.0, 0.0, 0.0, 0.0, 0.0, 0.0, 0.0, 0.0, 0.0, 0.0, 0.0, -0.012003901226886446, 0.0, 0.0, -0.0020006502044810745, 0.0, -0.0026675336059747657, -0.006668834014936915, -0.014671434832861215, -0.0013337668029873829, 0.0, 0.0, -0.0033344170074684574, 0.0, 0.0, 0.0, -0.004668183810455841, 0.0, -0.0033344170074684574, 0.0, -0.004668183810455841, 0.0, 0.0, -0.012003901226886446, 0.0, 0.0, 0.0, 0.0, -0.014671434832861215, -0.02667533605974766, -0.0006668834014936914, -0.0006668834014936914, 0.0, -0.0006668834014936914, -0.0020006502044810745, -0.004668183810455841, -0.012003901226886446, 0.0, -0.0006668834014936914, 0.0, 0.0, -0.014671434832861215, 0.0, -0.012003901226886446, -0.0033344170074684574, -0.0053350672119495315, -0.0006668834014936914, -0.014671434832861215, -0.02667533605974766, 0.0, 0.0, -0.006668834014936915, 0.0, 0.0, 0.0, -0.02667533605974766, 0.0, -0.004668183810455841, 0.0, 0.0, -0.00866948421941799, 0.0, 0.0, 0.0, -0.006001950613443223, 0.0, -0.0006668834014936914, -0.02667533605974766, -0.0006668834014936914, 0.0, 0.0, -0.00866948421941799, 0.0, 0.0, -0.0020006502044810745, -0.00866948421941799, 0.0, 0.0, -0.0033344170074684574, -0.006668834014936915, 0.0, 0.0, -0.0026675336059747657, 0.0, -0.008002600817924298, 0.0, 0.0, -0.02667533605974766, 0.0, -0.014671434832861215, -0.0020006502044810745, -0.0013337668029873829, 0.0, -0.0033344170074684574, -0.004668183810455841, 0.0, 0.0, 0.0, -0.0026675336059747657, -0.0053350672119495315, 0.0, 0.0, 0.0, -0.02667533605974766, 0.0, -0.0006668834014936914, 0.0, 0.0, -0.014671434832861215, -0.0013337668029873829, 0.0, 0.0, -0.006001950613443223, -0.0026675336059747657, -0.004668183810455841, -0.0053350672119495315, -0.0006668834014936914, -0.0006668834014936914, 0.0, -0.0006668834014936914, 0.0, -0.014671434832861215, 0.0, 0.0, 0.0, 0.0, -0.0013337668029873829, 0.0, -0.02667533605974766, -0.004668183810455841, 0.0, -0.0033344170074684574, 0.0, -0.02667533605974766, 0.0, -0.014671434832861215, -0.006668834014936915, -0.014671434832861215, 0.0, 0.0, 0.0, 0.0, -0.012003901226886446, 0.0, 0.0, -0.006001950613443223, -0.0020006502044810745, -0.02667533605974766, 0.0, -0.014671434832861215, 0.0, 0.0, -0.006668834014936915, 0.0, 0.0, 0.0, 0.0, -0.008002600817924298, -0.02667533605974766, 0.0, 0.0, -0.0006668834014936914, 0.0, -0.0020006502044810745, 0.0, -0.012003901226886446, -0.0026675336059747657, -0.0033344170074684574, 0.0, 0.0, -0.006001950613443223, -0.0026675336059747657, -0.02667533605974766, 0.0, -0.0020006502044810745, 0.0, 0.0, -0.0026675336059747657, 0.0, -0.02667533605974766, 0.0, 0.0, 0.0, -0.00866948421941799, 0.0, 0.0, -0.008002600817924298, -0.0053350672119495315, -0.0020006502044810745, 0.0, -0.0026675336059747657, 0.0, -0.02667533605974766, 0.0, -0.014671434832861215, 0.0, -0.0026675336059747657, 0.0, -0.0006668834014936914, 0.0, 0.0, -0.014671434832861215, 0.0, -0.012003901226886446, 0.0, 0.0, 0.0, 0.0, 0.0, 0.0, 0.0, 0.0, 0.0, 0.0, -0.012003901226886446, 0.0, 0.0, -0.014671434832861215, 0.0, 0.0, -0.0053350672119495315, 0.0, -0.014671434832861215, -0.0013337668029873829, 0.0, -0.0053350672119495315, 0.0, 0.0, 0.0, 0.0, 0.0, 0.0, 0.0, 0.0, 0.0, -0.004668183810455841, -0.0033344170074684574, -0.0013337668029873829, 0.0, 0.0, -0.00866948421941799, 0.0, 0.0, 0.0, -0.006668834014936915, 0.0, -0.012003901226886446, -0.0026675336059747657, 0.0, 0.0, -0.0033344170074684574, -0.004668183810455841, 0.0, -0.0033344170074684574, 0.0, -0.0053350672119495315, 0.0, 0.0, 0.0, 0.0, 0.0, -0.00866948421941799, -0.0013337668029873829, 0.0, -0.014671434832861215, -0.02667533605974766, -0.006668834014936915, 0.0, -0.0033344170074684574, 0.0, 0.0, -0.012003901226886446, 0.0, 0.0, -0.02667533605974766, 0.0, 0.0, -0.014671434832861215, -0.02667533605974766, -0.004668183810455841, 0.0, -0.0006668834014936914, -0.0013337668029873829, 0.0, 0.0, 0.0, -0.012003901226886446, 0.0, 0.0, 0.0, 0.0, -0.012003901226886446, 0.0, 0.0, 0.0, -0.00866948421941799, -0.0013337668029873829, 0.0, -0.0013337668029873829, -0.006668834014936915, 0.0, 0.0, -0.02667533605974766, 0.0, 0.0, 0.0, 0.0, 0.0, 0.0, 0.0, 0.0, -0.00866948421941799, 0.0, 0.0, 0.0, 0.0, -0.014671434832861215, -0.02667533605974766, 0.0, 0.0, -0.02667533605974766, 0.0, -0.004668183810455841, 0.0, -0.0033344170074684574, 0.0, -0.02667533605974766, 0.0, 0.0, 0.0, 0.0, 0.0, 0.0, -0.0006668834014936914, -0.0053350672119495315, 0.0, -0.014671434832861215, 0.0, -0.0013337668029873829, -0.00866948421941799, 0.0, -0.008002600817924298, -0.02667533605974766, -0.006668834014936915, 0.0, -0.012003901226886446, 0.0, -0.008002600817924298, -0.004668183810455841, 0.0, -0.012003901226886446, 0.0, 0.0, 0.0, -0.02667533605974766, 0.0, 0.0, -0.012003901226886446, 0.0, 0.0, -0.008002600817924298, 0.0, -0.0006668834014936914, 0.0, -0.004668183810455841, -0.02667533605974766, 0.0, 0.0, 0.0, 0.0, 0.0, 0.0, 0.0, -0.008002600817924298, 0.0, 0.0, -0.0026675336059747657, -0.0033344170074684574, -0.0013337668029873829, 0.0, -0.008002600817924298, 0.0, -0.00866948421941799, 0.0, 0.0, -0.012003901226886446, 0.0, 0.0, 0.0, 0.0, 0.0, -0.014671434832861215, 0.0, 0.0, -0.02667533605974766, 0.0]\n"
     ]
    }
   ],
   "source": [
    "print( doc_1_repr )"
   ]
  },
  {
   "cell_type": "code",
   "execution_count": 61,
   "id": "60b25643-f613-4d79-b66d-7963d165a50b",
   "metadata": {},
   "outputs": [
    {
     "name": "stdout",
     "output_type": "stream",
     "text": [
      "[0.0, -0.014898980350431239, 0.0, -0.011706341703910259, 0.0, 0.0, -0.00106421288217366, -0.011706341703910259, -0.00319263864652098, 0.0, -0.0053210644108683, -0.00319263864652098, -0.00212842576434732, 0.0, 0.0, 0.0, 0.0, 0.0, -0.00851370305738928, -0.00319263864652098, -0.00425685152869464, -0.011706341703910259, -0.007449490175215619, -0.00106421288217366, -0.00106421288217366, -0.00212842576434732, -0.02554110917216784, -0.00212842576434732, -0.00212842576434732, 0.0, 0.0, -0.0053210644108683, -0.007449490175215619, 0.0, -0.00212842576434732, 0.0, -0.00319263864652098, 0.0, 0.0, -0.0053210644108683, -0.00425685152869464, 0.0, 0.0, -0.00851370305738928, 0.0, -0.011706341703910259, -0.007449490175215619, 0.0, -0.0106421288217366, 0.0, 0.0, 0.0, -0.00851370305738928, 0.0, 0.0, 0.0, 0.0, -0.00319263864652098, -0.02554110917216784, -0.00212842576434732, -0.00425685152869464, -0.007449490175215619, -0.00851370305738928, -0.00319263864652098, -0.00425685152869464, -0.00319263864652098, -0.00106421288217366, -0.011706341703910259, 0.0, 0.0, 0.0, -0.00851370305738928, -0.00106421288217366, 0.0, -0.00851370305738928, 0.0, 0.0, 0.0, 0.0, -0.0106421288217366, 0.0, -0.02554110917216784, -0.0053210644108683, -0.0053210644108683, -0.014898980350431239, 0.0, 0.0, -0.0106421288217366, -0.00212842576434732, 0.0, -0.014898980350431239, -0.02554110917216784, -0.00212842576434732, -0.00319263864652098, -0.00212842576434732, -0.011706341703910259, -0.02554110917216784, 0.0, 0.0, -0.00212842576434732, 0.0, -0.0053210644108683, -0.0053210644108683, 0.0, 0.0, 0.0, 0.0, -0.0106421288217366, 0.0, -0.00425685152869464, 0.0, -0.02554110917216784, -0.0053210644108683, -0.0053210644108683, -0.014898980350431239, -0.02554110917216784, -0.0053210644108683, -0.007449490175215619, 0.0, -0.00212842576434732, -0.02554110917216784, 0.0, 0.0, -0.00212842576434732, 0.0, -0.007449490175215619, -0.00425685152869464, -0.00319263864652098, 0.0, -0.014898980350431239, 0.0, 0.0, 0.0, 0.0, 0.0, 0.0, -0.011706341703910259, -0.02554110917216784, -0.0053210644108683, -0.0053210644108683, -0.011706341703910259, 0.0, 0.0, -0.00319263864652098, 0.0, -0.0106421288217366, -0.00106421288217366, -0.007449490175215619, -0.0053210644108683, -0.00425685152869464, 0.0, -0.00212842576434732, 0.0, -0.00319263864652098, 0.0, -0.011706341703910259, -0.007449490175215619, -0.00106421288217366, -0.00106421288217366, 0.0, 0.0, -0.007449490175215619, 0.0, -0.00425685152869464, -0.00319263864652098, 0.0, -0.011706341703910259, -0.00212842576434732, -0.00851370305738928, 0.0, -0.007449490175215619, -0.0053210644108683, -0.0053210644108683, -0.007449490175215619, 0.0, -0.0106421288217366, 0.0, 0.0, -0.00319263864652098, 0.0, -0.0106421288217366, -0.02554110917216784, 0.0, 0.0, -0.014898980350431239, -0.00319263864652098, 0.0, -0.02554110917216784, 0.0, 0.0, 0.0, -0.02554110917216784, -0.00106421288217366, -0.00212842576434732, 0.0, -0.014898980350431239, 0.0, 0.0, 0.0, -0.00106421288217366, -0.00851370305738928, 0.0, 0.0, 0.0, -0.00106421288217366, -0.00212842576434732, 0.0, 0.0, 0.0, 0.0, -0.02554110917216784, 0.0, 0.0, -0.00106421288217366, -0.014898980350431239, -0.02554110917216784, -0.00851370305738928, 0.0, -0.007449490175215619, 0.0, 0.0, -0.00425685152869464, 0.0, 0.0, 0.0, -0.014898980350431239, -0.02554110917216784, -0.00851370305738928, 0.0, -0.007449490175215619, 0.0, 0.0, -0.0106421288217366, 0.0, 0.0, 0.0, -0.014898980350431239, 0.0, -0.00212842576434732, 0.0, 0.0, -0.00425685152869464, -0.00106421288217366, 0.0, -0.014898980350431239, -0.02554110917216784, -0.00851370305738928, -0.00425685152869464, -0.011706341703910259, -0.02554110917216784, 0.0, -0.00106421288217366, 0.0, -0.00106421288217366, 0.0, 0.0, -0.00106421288217366, -0.02554110917216784, 0.0, 0.0, -0.00212842576434732, -0.00212842576434732, 0.0, 0.0, -0.00106421288217366, 0.0, -0.00425685152869464, 0.0, 0.0, 0.0, -0.00425685152869464, 0.0, -0.00212842576434732, 0.0, 0.0, 0.0, 0.0, 0.0, 0.0, -0.007449490175215619, 0.0, 0.0, 0.0, -0.00851370305738928, 0.0, 0.0, 0.0, 0.0, -0.00425685152869464, 0.0, -0.00212842576434732, -0.00106421288217366, -0.007449490175215619, -0.00106421288217366, -0.00851370305738928, 0.0, 0.0, -0.02554110917216784, -0.00851370305738928, 0.0, 0.0, -0.00106421288217366, 0.0, 0.0, 0.0, -0.00425685152869464, 0.0, -0.0106421288217366, 0.0, 0.0, -0.014898980350431239, -0.02554110917216784, -0.00212842576434732, -0.00212842576434732, 0.0, 0.0, 0.0, -0.00212842576434732, -0.02554110917216784, 0.0, -0.014898980350431239, 0.0, -0.00212842576434732, -0.0053210644108683, -0.00319263864652098, 0.0, 0.0, -0.007449490175215619, 0.0, -0.0106421288217366, 0.0, -0.007449490175215619, 0.0, -0.014898980350431239, -0.00106421288217366, -0.00212842576434732, -0.00319263864652098, -0.00212842576434732, 0.0, 0.0, 0.0, 0.0, -0.00106421288217366, -0.0053210644108683, -0.00851370305738928, -0.0053210644108683, -0.0053210644108683, -0.00319263864652098, 0.0, -0.007449490175215619, -0.00425685152869464, -0.007449490175215619, 0.0, 0.0, -0.00319263864652098, 0.0, 0.0, -0.00319263864652098, 0.0, -0.00106421288217366, -0.02554110917216784, -0.0053210644108683, -0.00319263864652098, -0.00212842576434732, -0.02554110917216784, -0.00212842576434732, -0.00212842576434732, 0.0, 0.0, -0.00851370305738928, -0.007449490175215619, 0.0, 0.0, 0.0, -0.007449490175215619, 0.0, 0.0, 0.0, -0.00106421288217366, -0.02554110917216784, -0.00319263864652098]\n"
     ]
    }
   ],
   "source": [
    "print( doc_2_repr )"
   ]
  }
 ],
 "metadata": {
  "kernelspec": {
   "display_name": "Python 3 (ipykernel)",
   "language": "python",
   "name": "python3"
  },
  "language_info": {
   "codemirror_mode": {
    "name": "ipython",
    "version": 3
   },
   "file_extension": ".py",
   "mimetype": "text/x-python",
   "name": "python",
   "nbconvert_exporter": "python",
   "pygments_lexer": "ipython3",
   "version": "3.8.10"
  }
 },
 "nbformat": 4,
 "nbformat_minor": 5
}
