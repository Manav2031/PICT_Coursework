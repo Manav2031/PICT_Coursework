{
 "cells": [
  {
   "cell_type": "markdown",
   "id": "5fc04898-5e09-463d-bc9c-eed8ac205f65",
   "metadata": {},
   "source": [
    "# 8. Data Analytics I\n",
    "\n",
    "Create a Linear Regression Model using Python/R to predict home prices using Boston\n",
    "Housing Dataset (https://www.kaggle.com/c/boston-housing). The Boston Housing dataset\n",
    "contains information about various houses in Boston through different parameters. There are\n",
    "506 samples and 14 feature variables in this dataset."
   ]
  },
  {
   "cell_type": "code",
   "execution_count": 81,
   "id": "34145c73-15f7-4c91-8fe0-58e1faa52622",
   "metadata": {},
   "outputs": [],
   "source": [
    "import numpy as np\n",
    "import pandas as pd\n",
    "import seaborn as sns"
   ]
  },
  {
   "cell_type": "code",
   "execution_count": 82,
   "id": "1592d382-2412-40fa-926f-b82a58dfe798",
   "metadata": {},
   "outputs": [
    {
     "data": {
      "text/html": [
       "<div>\n",
       "<style scoped>\n",
       "    .dataframe tbody tr th:only-of-type {\n",
       "        vertical-align: middle;\n",
       "    }\n",
       "\n",
       "    .dataframe tbody tr th {\n",
       "        vertical-align: top;\n",
       "    }\n",
       "\n",
       "    .dataframe thead th {\n",
       "        text-align: right;\n",
       "    }\n",
       "</style>\n",
       "<table border=\"1\" class=\"dataframe\">\n",
       "  <thead>\n",
       "    <tr style=\"text-align: right;\">\n",
       "      <th></th>\n",
       "      <th>crim</th>\n",
       "      <th>zn</th>\n",
       "      <th>indus</th>\n",
       "      <th>chas</th>\n",
       "      <th>nox</th>\n",
       "      <th>rm</th>\n",
       "      <th>age</th>\n",
       "      <th>dis</th>\n",
       "      <th>rad</th>\n",
       "      <th>tax</th>\n",
       "      <th>ptratio</th>\n",
       "      <th>b</th>\n",
       "      <th>lstat</th>\n",
       "      <th>medv</th>\n",
       "    </tr>\n",
       "  </thead>\n",
       "  <tbody>\n",
       "    <tr>\n",
       "      <th>0</th>\n",
       "      <td>0.00632</td>\n",
       "      <td>18.0</td>\n",
       "      <td>2.31</td>\n",
       "      <td>0</td>\n",
       "      <td>0.538</td>\n",
       "      <td>6.575</td>\n",
       "      <td>65.2</td>\n",
       "      <td>4.0900</td>\n",
       "      <td>1</td>\n",
       "      <td>296</td>\n",
       "      <td>15.3</td>\n",
       "      <td>396.90</td>\n",
       "      <td>4.98</td>\n",
       "      <td>24.0</td>\n",
       "    </tr>\n",
       "    <tr>\n",
       "      <th>1</th>\n",
       "      <td>0.02731</td>\n",
       "      <td>0.0</td>\n",
       "      <td>7.07</td>\n",
       "      <td>0</td>\n",
       "      <td>0.469</td>\n",
       "      <td>6.421</td>\n",
       "      <td>78.9</td>\n",
       "      <td>4.9671</td>\n",
       "      <td>2</td>\n",
       "      <td>242</td>\n",
       "      <td>17.8</td>\n",
       "      <td>396.90</td>\n",
       "      <td>9.14</td>\n",
       "      <td>21.6</td>\n",
       "    </tr>\n",
       "    <tr>\n",
       "      <th>2</th>\n",
       "      <td>0.02729</td>\n",
       "      <td>0.0</td>\n",
       "      <td>7.07</td>\n",
       "      <td>0</td>\n",
       "      <td>0.469</td>\n",
       "      <td>7.185</td>\n",
       "      <td>61.1</td>\n",
       "      <td>4.9671</td>\n",
       "      <td>2</td>\n",
       "      <td>242</td>\n",
       "      <td>17.8</td>\n",
       "      <td>392.83</td>\n",
       "      <td>4.03</td>\n",
       "      <td>34.7</td>\n",
       "    </tr>\n",
       "    <tr>\n",
       "      <th>3</th>\n",
       "      <td>0.03237</td>\n",
       "      <td>0.0</td>\n",
       "      <td>2.18</td>\n",
       "      <td>0</td>\n",
       "      <td>0.458</td>\n",
       "      <td>6.998</td>\n",
       "      <td>45.8</td>\n",
       "      <td>6.0622</td>\n",
       "      <td>3</td>\n",
       "      <td>222</td>\n",
       "      <td>18.7</td>\n",
       "      <td>394.63</td>\n",
       "      <td>2.94</td>\n",
       "      <td>33.4</td>\n",
       "    </tr>\n",
       "    <tr>\n",
       "      <th>4</th>\n",
       "      <td>0.06905</td>\n",
       "      <td>0.0</td>\n",
       "      <td>2.18</td>\n",
       "      <td>0</td>\n",
       "      <td>0.458</td>\n",
       "      <td>7.147</td>\n",
       "      <td>54.2</td>\n",
       "      <td>6.0622</td>\n",
       "      <td>3</td>\n",
       "      <td>222</td>\n",
       "      <td>18.7</td>\n",
       "      <td>396.90</td>\n",
       "      <td>5.33</td>\n",
       "      <td>36.2</td>\n",
       "    </tr>\n",
       "    <tr>\n",
       "      <th>...</th>\n",
       "      <td>...</td>\n",
       "      <td>...</td>\n",
       "      <td>...</td>\n",
       "      <td>...</td>\n",
       "      <td>...</td>\n",
       "      <td>...</td>\n",
       "      <td>...</td>\n",
       "      <td>...</td>\n",
       "      <td>...</td>\n",
       "      <td>...</td>\n",
       "      <td>...</td>\n",
       "      <td>...</td>\n",
       "      <td>...</td>\n",
       "      <td>...</td>\n",
       "    </tr>\n",
       "    <tr>\n",
       "      <th>501</th>\n",
       "      <td>0.06263</td>\n",
       "      <td>0.0</td>\n",
       "      <td>11.93</td>\n",
       "      <td>0</td>\n",
       "      <td>0.573</td>\n",
       "      <td>6.593</td>\n",
       "      <td>69.1</td>\n",
       "      <td>2.4786</td>\n",
       "      <td>1</td>\n",
       "      <td>273</td>\n",
       "      <td>21.0</td>\n",
       "      <td>391.99</td>\n",
       "      <td>9.67</td>\n",
       "      <td>22.4</td>\n",
       "    </tr>\n",
       "    <tr>\n",
       "      <th>502</th>\n",
       "      <td>0.04527</td>\n",
       "      <td>0.0</td>\n",
       "      <td>11.93</td>\n",
       "      <td>0</td>\n",
       "      <td>0.573</td>\n",
       "      <td>6.120</td>\n",
       "      <td>76.7</td>\n",
       "      <td>2.2875</td>\n",
       "      <td>1</td>\n",
       "      <td>273</td>\n",
       "      <td>21.0</td>\n",
       "      <td>396.90</td>\n",
       "      <td>9.08</td>\n",
       "      <td>20.6</td>\n",
       "    </tr>\n",
       "    <tr>\n",
       "      <th>503</th>\n",
       "      <td>0.06076</td>\n",
       "      <td>0.0</td>\n",
       "      <td>11.93</td>\n",
       "      <td>0</td>\n",
       "      <td>0.573</td>\n",
       "      <td>6.976</td>\n",
       "      <td>91.0</td>\n",
       "      <td>2.1675</td>\n",
       "      <td>1</td>\n",
       "      <td>273</td>\n",
       "      <td>21.0</td>\n",
       "      <td>396.90</td>\n",
       "      <td>5.64</td>\n",
       "      <td>23.9</td>\n",
       "    </tr>\n",
       "    <tr>\n",
       "      <th>504</th>\n",
       "      <td>0.10959</td>\n",
       "      <td>0.0</td>\n",
       "      <td>11.93</td>\n",
       "      <td>0</td>\n",
       "      <td>0.573</td>\n",
       "      <td>6.794</td>\n",
       "      <td>89.3</td>\n",
       "      <td>2.3889</td>\n",
       "      <td>1</td>\n",
       "      <td>273</td>\n",
       "      <td>21.0</td>\n",
       "      <td>393.45</td>\n",
       "      <td>6.48</td>\n",
       "      <td>22.0</td>\n",
       "    </tr>\n",
       "    <tr>\n",
       "      <th>505</th>\n",
       "      <td>0.04741</td>\n",
       "      <td>0.0</td>\n",
       "      <td>11.93</td>\n",
       "      <td>0</td>\n",
       "      <td>0.573</td>\n",
       "      <td>6.030</td>\n",
       "      <td>80.8</td>\n",
       "      <td>2.5050</td>\n",
       "      <td>1</td>\n",
       "      <td>273</td>\n",
       "      <td>21.0</td>\n",
       "      <td>396.90</td>\n",
       "      <td>7.88</td>\n",
       "      <td>11.9</td>\n",
       "    </tr>\n",
       "  </tbody>\n",
       "</table>\n",
       "<p>506 rows × 14 columns</p>\n",
       "</div>"
      ],
      "text/plain": [
       "        crim    zn  indus  chas    nox     rm   age     dis  rad  tax  \\\n",
       "0    0.00632  18.0   2.31     0  0.538  6.575  65.2  4.0900    1  296   \n",
       "1    0.02731   0.0   7.07     0  0.469  6.421  78.9  4.9671    2  242   \n",
       "2    0.02729   0.0   7.07     0  0.469  7.185  61.1  4.9671    2  242   \n",
       "3    0.03237   0.0   2.18     0  0.458  6.998  45.8  6.0622    3  222   \n",
       "4    0.06905   0.0   2.18     0  0.458  7.147  54.2  6.0622    3  222   \n",
       "..       ...   ...    ...   ...    ...    ...   ...     ...  ...  ...   \n",
       "501  0.06263   0.0  11.93     0  0.573  6.593  69.1  2.4786    1  273   \n",
       "502  0.04527   0.0  11.93     0  0.573  6.120  76.7  2.2875    1  273   \n",
       "503  0.06076   0.0  11.93     0  0.573  6.976  91.0  2.1675    1  273   \n",
       "504  0.10959   0.0  11.93     0  0.573  6.794  89.3  2.3889    1  273   \n",
       "505  0.04741   0.0  11.93     0  0.573  6.030  80.8  2.5050    1  273   \n",
       "\n",
       "     ptratio       b  lstat  medv  \n",
       "0       15.3  396.90   4.98  24.0  \n",
       "1       17.8  396.90   9.14  21.6  \n",
       "2       17.8  392.83   4.03  34.7  \n",
       "3       18.7  394.63   2.94  33.4  \n",
       "4       18.7  396.90   5.33  36.2  \n",
       "..       ...     ...    ...   ...  \n",
       "501     21.0  391.99   9.67  22.4  \n",
       "502     21.0  396.90   9.08  20.6  \n",
       "503     21.0  396.90   5.64  23.9  \n",
       "504     21.0  393.45   6.48  22.0  \n",
       "505     21.0  396.90   7.88  11.9  \n",
       "\n",
       "[506 rows x 14 columns]"
      ]
     },
     "execution_count": 82,
     "metadata": {},
     "output_type": "execute_result"
    }
   ],
   "source": [
    "ds = pd.read_csv( \"boston_housing.csv\" )\n",
    "ds"
   ]
  },
  {
   "cell_type": "markdown",
   "id": "ff4f61e4-a7e4-44c6-8685-7657ee5d232e",
   "metadata": {},
   "source": [
    "### 1. About the dataset\n",
    "\n",
    "\n",
    "    CRIM - per capita crime rate by town\n",
    "    ZN - proportion of residential land zoned for lots over 25,000 sq.ft.\n",
    "    INDUS - proportion of non-retail business acres per town.\n",
    "    CHAS - Charles River dummy variable (1 if tract bounds river; 0 otherwise)\n",
    "    NOX - nitric oxides concentration (parts per 10 million)\n",
    "    RM - average number of rooms per dwelling\n",
    "    AGE - proportion of owner-occupied units built prior to 1940\n",
    "    DIS - weighted distances to five Boston employment centres\n",
    "    RAD - index of accessibility to radial highways\n",
    "    TAX - full-value property-tax rate per $10,000\n",
    "    PTRATIO - pupil-teacher ratio by town\n",
    "    B - 1000(Bk - 0.63)^2 where Bk is the proportion of blacks by town\n",
    "    LSTAT - % lower status of the population\n",
    "    MEDV - Median value of owner-occupied homes in $1000's\n"
   ]
  },
  {
   "cell_type": "code",
   "execution_count": 83,
   "id": "7d297209-5497-406a-b630-3aab1a4dd0e6",
   "metadata": {},
   "outputs": [
    {
     "data": {
      "text/plain": [
       "Index(['crim', 'zn', 'indus', 'chas', 'nox', 'rm', 'age', 'dis', 'rad', 'tax',\n",
       "       'ptratio', 'b', 'lstat', 'medv'],\n",
       "      dtype='object')"
      ]
     },
     "execution_count": 83,
     "metadata": {},
     "output_type": "execute_result"
    }
   ],
   "source": [
    "ds.columns"
   ]
  },
  {
   "cell_type": "code",
   "execution_count": 84,
   "id": "5488dc4f-3cd1-4ea3-9a8f-3891e8ea760e",
   "metadata": {},
   "outputs": [
    {
     "data": {
      "text/plain": [
       "crim       float64\n",
       "zn         float64\n",
       "indus      float64\n",
       "chas         int64\n",
       "nox        float64\n",
       "rm         float64\n",
       "age        float64\n",
       "dis        float64\n",
       "rad          int64\n",
       "tax          int64\n",
       "ptratio    float64\n",
       "b          float64\n",
       "lstat      float64\n",
       "medv       float64\n",
       "dtype: object"
      ]
     },
     "execution_count": 84,
     "metadata": {},
     "output_type": "execute_result"
    }
   ],
   "source": [
    "ds.dtypes"
   ]
  },
  {
   "cell_type": "markdown",
   "id": "e71bf79e-528e-4556-843d-d286b1a31e85",
   "metadata": {},
   "source": [
    "## 2. Exploratory Data Analysis"
   ]
  },
  {
   "cell_type": "markdown",
   "id": "fc47bc40-f258-4503-a42f-3566eaecc136",
   "metadata": {},
   "source": [
    "### 2.1. Summary Statistics"
   ]
  },
  {
   "cell_type": "code",
   "execution_count": 85,
   "id": "4df23bda-f961-4591-99f5-ac8f750e16a9",
   "metadata": {},
   "outputs": [
    {
     "data": {
      "text/html": [
       "<div>\n",
       "<style scoped>\n",
       "    .dataframe tbody tr th:only-of-type {\n",
       "        vertical-align: middle;\n",
       "    }\n",
       "\n",
       "    .dataframe tbody tr th {\n",
       "        vertical-align: top;\n",
       "    }\n",
       "\n",
       "    .dataframe thead th {\n",
       "        text-align: right;\n",
       "    }\n",
       "</style>\n",
       "<table border=\"1\" class=\"dataframe\">\n",
       "  <thead>\n",
       "    <tr style=\"text-align: right;\">\n",
       "      <th></th>\n",
       "      <th>crim</th>\n",
       "      <th>zn</th>\n",
       "      <th>indus</th>\n",
       "      <th>chas</th>\n",
       "      <th>nox</th>\n",
       "      <th>rm</th>\n",
       "      <th>age</th>\n",
       "      <th>dis</th>\n",
       "      <th>rad</th>\n",
       "      <th>tax</th>\n",
       "      <th>ptratio</th>\n",
       "      <th>b</th>\n",
       "      <th>lstat</th>\n",
       "      <th>medv</th>\n",
       "    </tr>\n",
       "  </thead>\n",
       "  <tbody>\n",
       "    <tr>\n",
       "      <th>count</th>\n",
       "      <td>506.000000</td>\n",
       "      <td>506.000000</td>\n",
       "      <td>506.000000</td>\n",
       "      <td>506.000000</td>\n",
       "      <td>506.000000</td>\n",
       "      <td>506.000000</td>\n",
       "      <td>506.000000</td>\n",
       "      <td>506.000000</td>\n",
       "      <td>506.000000</td>\n",
       "      <td>506.000000</td>\n",
       "      <td>506.000000</td>\n",
       "      <td>506.000000</td>\n",
       "      <td>506.000000</td>\n",
       "      <td>506.000000</td>\n",
       "    </tr>\n",
       "    <tr>\n",
       "      <th>mean</th>\n",
       "      <td>3.613524</td>\n",
       "      <td>11.363636</td>\n",
       "      <td>11.136779</td>\n",
       "      <td>0.069170</td>\n",
       "      <td>0.554695</td>\n",
       "      <td>6.284634</td>\n",
       "      <td>68.574901</td>\n",
       "      <td>3.795043</td>\n",
       "      <td>9.549407</td>\n",
       "      <td>408.237154</td>\n",
       "      <td>18.455534</td>\n",
       "      <td>356.674032</td>\n",
       "      <td>12.653063</td>\n",
       "      <td>22.532806</td>\n",
       "    </tr>\n",
       "    <tr>\n",
       "      <th>std</th>\n",
       "      <td>8.601545</td>\n",
       "      <td>23.322453</td>\n",
       "      <td>6.860353</td>\n",
       "      <td>0.253994</td>\n",
       "      <td>0.115878</td>\n",
       "      <td>0.702617</td>\n",
       "      <td>28.148861</td>\n",
       "      <td>2.105710</td>\n",
       "      <td>8.707259</td>\n",
       "      <td>168.537116</td>\n",
       "      <td>2.164946</td>\n",
       "      <td>91.294864</td>\n",
       "      <td>7.141062</td>\n",
       "      <td>9.197104</td>\n",
       "    </tr>\n",
       "    <tr>\n",
       "      <th>min</th>\n",
       "      <td>0.006320</td>\n",
       "      <td>0.000000</td>\n",
       "      <td>0.460000</td>\n",
       "      <td>0.000000</td>\n",
       "      <td>0.385000</td>\n",
       "      <td>3.561000</td>\n",
       "      <td>2.900000</td>\n",
       "      <td>1.129600</td>\n",
       "      <td>1.000000</td>\n",
       "      <td>187.000000</td>\n",
       "      <td>12.600000</td>\n",
       "      <td>0.320000</td>\n",
       "      <td>1.730000</td>\n",
       "      <td>5.000000</td>\n",
       "    </tr>\n",
       "    <tr>\n",
       "      <th>25%</th>\n",
       "      <td>0.082045</td>\n",
       "      <td>0.000000</td>\n",
       "      <td>5.190000</td>\n",
       "      <td>0.000000</td>\n",
       "      <td>0.449000</td>\n",
       "      <td>5.885500</td>\n",
       "      <td>45.025000</td>\n",
       "      <td>2.100175</td>\n",
       "      <td>4.000000</td>\n",
       "      <td>279.000000</td>\n",
       "      <td>17.400000</td>\n",
       "      <td>375.377500</td>\n",
       "      <td>6.950000</td>\n",
       "      <td>17.025000</td>\n",
       "    </tr>\n",
       "    <tr>\n",
       "      <th>50%</th>\n",
       "      <td>0.256510</td>\n",
       "      <td>0.000000</td>\n",
       "      <td>9.690000</td>\n",
       "      <td>0.000000</td>\n",
       "      <td>0.538000</td>\n",
       "      <td>6.208500</td>\n",
       "      <td>77.500000</td>\n",
       "      <td>3.207450</td>\n",
       "      <td>5.000000</td>\n",
       "      <td>330.000000</td>\n",
       "      <td>19.050000</td>\n",
       "      <td>391.440000</td>\n",
       "      <td>11.360000</td>\n",
       "      <td>21.200000</td>\n",
       "    </tr>\n",
       "    <tr>\n",
       "      <th>75%</th>\n",
       "      <td>3.677083</td>\n",
       "      <td>12.500000</td>\n",
       "      <td>18.100000</td>\n",
       "      <td>0.000000</td>\n",
       "      <td>0.624000</td>\n",
       "      <td>6.623500</td>\n",
       "      <td>94.075000</td>\n",
       "      <td>5.188425</td>\n",
       "      <td>24.000000</td>\n",
       "      <td>666.000000</td>\n",
       "      <td>20.200000</td>\n",
       "      <td>396.225000</td>\n",
       "      <td>16.955000</td>\n",
       "      <td>25.000000</td>\n",
       "    </tr>\n",
       "    <tr>\n",
       "      <th>max</th>\n",
       "      <td>88.976200</td>\n",
       "      <td>100.000000</td>\n",
       "      <td>27.740000</td>\n",
       "      <td>1.000000</td>\n",
       "      <td>0.871000</td>\n",
       "      <td>8.780000</td>\n",
       "      <td>100.000000</td>\n",
       "      <td>12.126500</td>\n",
       "      <td>24.000000</td>\n",
       "      <td>711.000000</td>\n",
       "      <td>22.000000</td>\n",
       "      <td>396.900000</td>\n",
       "      <td>37.970000</td>\n",
       "      <td>50.000000</td>\n",
       "    </tr>\n",
       "  </tbody>\n",
       "</table>\n",
       "</div>"
      ],
      "text/plain": [
       "             crim          zn       indus        chas         nox          rm  \\\n",
       "count  506.000000  506.000000  506.000000  506.000000  506.000000  506.000000   \n",
       "mean     3.613524   11.363636   11.136779    0.069170    0.554695    6.284634   \n",
       "std      8.601545   23.322453    6.860353    0.253994    0.115878    0.702617   \n",
       "min      0.006320    0.000000    0.460000    0.000000    0.385000    3.561000   \n",
       "25%      0.082045    0.000000    5.190000    0.000000    0.449000    5.885500   \n",
       "50%      0.256510    0.000000    9.690000    0.000000    0.538000    6.208500   \n",
       "75%      3.677083   12.500000   18.100000    0.000000    0.624000    6.623500   \n",
       "max     88.976200  100.000000   27.740000    1.000000    0.871000    8.780000   \n",
       "\n",
       "              age         dis         rad         tax     ptratio           b  \\\n",
       "count  506.000000  506.000000  506.000000  506.000000  506.000000  506.000000   \n",
       "mean    68.574901    3.795043    9.549407  408.237154   18.455534  356.674032   \n",
       "std     28.148861    2.105710    8.707259  168.537116    2.164946   91.294864   \n",
       "min      2.900000    1.129600    1.000000  187.000000   12.600000    0.320000   \n",
       "25%     45.025000    2.100175    4.000000  279.000000   17.400000  375.377500   \n",
       "50%     77.500000    3.207450    5.000000  330.000000   19.050000  391.440000   \n",
       "75%     94.075000    5.188425   24.000000  666.000000   20.200000  396.225000   \n",
       "max    100.000000   12.126500   24.000000  711.000000   22.000000  396.900000   \n",
       "\n",
       "            lstat        medv  \n",
       "count  506.000000  506.000000  \n",
       "mean    12.653063   22.532806  \n",
       "std      7.141062    9.197104  \n",
       "min      1.730000    5.000000  \n",
       "25%      6.950000   17.025000  \n",
       "50%     11.360000   21.200000  \n",
       "75%     16.955000   25.000000  \n",
       "max     37.970000   50.000000  "
      ]
     },
     "execution_count": 85,
     "metadata": {},
     "output_type": "execute_result"
    }
   ],
   "source": [
    "ds.describe()"
   ]
  },
  {
   "cell_type": "code",
   "execution_count": 86,
   "id": "e1f86e77-dfbd-4d69-927c-f675f933ec4c",
   "metadata": {},
   "outputs": [
    {
     "data": {
      "text/plain": [
       "<Axes: >"
      ]
     },
     "execution_count": 86,
     "metadata": {},
     "output_type": "execute_result"
    },
    {
     "data": {
      "image/png": "[encoded data removed]",
      "text/plain": [
       "<Figure size 640x480 with 1 Axes>"
      ]
     },
     "metadata": {},
     "output_type": "display_data"
    }
   ],
   "source": [
    "sns.boxplot( data=ds )"
   ]
  },
  {
   "cell_type": "markdown",
   "id": "d8975c50-9390-4757-a54e-7483eb1f3f80",
   "metadata": {},
   "source": [
    "### 2.2. Correlation Analysis"
   ]
  },
  {
   "cell_type": "code",
   "execution_count": 104,
   "id": "246983db-9a20-4d17-9d15-e8a18047dcd5",
   "metadata": {},
   "outputs": [
    {
     "data": {
      "text/html": [
       "<div>\n",
       "<style scoped>\n",
       "    .dataframe tbody tr th:only-of-type {\n",
       "        vertical-align: middle;\n",
       "    }\n",
       "\n",
       "    .dataframe tbody tr th {\n",
       "        vertical-align: top;\n",
       "    }\n",
       "\n",
       "    .dataframe thead th {\n",
       "        text-align: right;\n",
       "    }\n",
       "</style>\n",
       "<table border=\"1\" class=\"dataframe\">\n",
       "  <thead>\n",
       "    <tr style=\"text-align: right;\">\n",
       "      <th></th>\n",
       "      <th>crim</th>\n",
       "      <th>zn</th>\n",
       "      <th>indus</th>\n",
       "      <th>chas</th>\n",
       "      <th>nox</th>\n",
       "      <th>rm</th>\n",
       "      <th>age</th>\n",
       "      <th>dis</th>\n",
       "      <th>rad</th>\n",
       "      <th>tax</th>\n",
       "      <th>ptratio</th>\n",
       "      <th>b</th>\n",
       "      <th>lstat</th>\n",
       "      <th>medv</th>\n",
       "    </tr>\n",
       "  </thead>\n",
       "  <tbody>\n",
       "    <tr>\n",
       "      <th>crim</th>\n",
       "      <td>1.000000</td>\n",
       "      <td>-0.325160</td>\n",
       "      <td>0.469416</td>\n",
       "      <td>-0.048580</td>\n",
       "      <td>0.548323</td>\n",
       "      <td>-0.171687</td>\n",
       "      <td>0.402817</td>\n",
       "      <td>-0.428820</td>\n",
       "      <td>0.053062</td>\n",
       "      <td>0.402170</td>\n",
       "      <td>0.272066</td>\n",
       "      <td>0.068971</td>\n",
       "      <td>0.457977</td>\n",
       "      <td>-0.330080</td>\n",
       "    </tr>\n",
       "    <tr>\n",
       "      <th>zn</th>\n",
       "      <td>-0.325160</td>\n",
       "      <td>1.000000</td>\n",
       "      <td>-0.262096</td>\n",
       "      <td>0.020274</td>\n",
       "      <td>-0.470424</td>\n",
       "      <td>0.278400</td>\n",
       "      <td>-0.253406</td>\n",
       "      <td>0.425397</td>\n",
       "      <td>-0.053708</td>\n",
       "      <td>-0.172419</td>\n",
       "      <td>-0.415844</td>\n",
       "      <td>-0.024035</td>\n",
       "      <td>-0.240123</td>\n",
       "      <td>0.277346</td>\n",
       "    </tr>\n",
       "    <tr>\n",
       "      <th>indus</th>\n",
       "      <td>0.469416</td>\n",
       "      <td>-0.262096</td>\n",
       "      <td>1.000000</td>\n",
       "      <td>0.107076</td>\n",
       "      <td>0.520649</td>\n",
       "      <td>-0.061710</td>\n",
       "      <td>0.368324</td>\n",
       "      <td>-0.450949</td>\n",
       "      <td>0.001804</td>\n",
       "      <td>0.529008</td>\n",
       "      <td>0.330036</td>\n",
       "      <td>0.022508</td>\n",
       "      <td>0.391588</td>\n",
       "      <td>-0.354402</td>\n",
       "    </tr>\n",
       "    <tr>\n",
       "      <th>chas</th>\n",
       "      <td>-0.048580</td>\n",
       "      <td>0.020274</td>\n",
       "      <td>0.107076</td>\n",
       "      <td>1.000000</td>\n",
       "      <td>0.026705</td>\n",
       "      <td>-0.054154</td>\n",
       "      <td>0.086784</td>\n",
       "      <td>-0.094252</td>\n",
       "      <td>-0.063700</td>\n",
       "      <td>-0.158085</td>\n",
       "      <td>-0.116814</td>\n",
       "      <td>-0.082773</td>\n",
       "      <td>0.144264</td>\n",
       "      <td>0.088814</td>\n",
       "    </tr>\n",
       "    <tr>\n",
       "      <th>nox</th>\n",
       "      <td>0.548323</td>\n",
       "      <td>-0.470424</td>\n",
       "      <td>0.520649</td>\n",
       "      <td>0.026705</td>\n",
       "      <td>1.000000</td>\n",
       "      <td>-0.207798</td>\n",
       "      <td>0.666780</td>\n",
       "      <td>-0.722706</td>\n",
       "      <td>0.363013</td>\n",
       "      <td>0.484798</td>\n",
       "      <td>0.385518</td>\n",
       "      <td>0.165249</td>\n",
       "      <td>0.515178</td>\n",
       "      <td>-0.391941</td>\n",
       "    </tr>\n",
       "    <tr>\n",
       "      <th>rm</th>\n",
       "      <td>-0.171687</td>\n",
       "      <td>0.278400</td>\n",
       "      <td>-0.061710</td>\n",
       "      <td>-0.054154</td>\n",
       "      <td>-0.207798</td>\n",
       "      <td>1.000000</td>\n",
       "      <td>-0.104326</td>\n",
       "      <td>0.079330</td>\n",
       "      <td>-0.044764</td>\n",
       "      <td>-0.047834</td>\n",
       "      <td>-0.126965</td>\n",
       "      <td>-0.120238</td>\n",
       "      <td>-0.603433</td>\n",
       "      <td>0.618453</td>\n",
       "    </tr>\n",
       "    <tr>\n",
       "      <th>age</th>\n",
       "      <td>0.402817</td>\n",
       "      <td>-0.253406</td>\n",
       "      <td>0.368324</td>\n",
       "      <td>0.086784</td>\n",
       "      <td>0.666780</td>\n",
       "      <td>-0.104326</td>\n",
       "      <td>1.000000</td>\n",
       "      <td>-0.595085</td>\n",
       "      <td>0.169904</td>\n",
       "      <td>0.380461</td>\n",
       "      <td>0.194622</td>\n",
       "      <td>0.145497</td>\n",
       "      <td>0.605238</td>\n",
       "      <td>-0.392513</td>\n",
       "    </tr>\n",
       "    <tr>\n",
       "      <th>dis</th>\n",
       "      <td>-0.428820</td>\n",
       "      <td>0.425397</td>\n",
       "      <td>-0.450949</td>\n",
       "      <td>-0.094252</td>\n",
       "      <td>-0.722706</td>\n",
       "      <td>0.079330</td>\n",
       "      <td>-0.595085</td>\n",
       "      <td>1.000000</td>\n",
       "      <td>-0.247369</td>\n",
       "      <td>-0.523883</td>\n",
       "      <td>-0.414226</td>\n",
       "      <td>-0.133527</td>\n",
       "      <td>-0.340490</td>\n",
       "      <td>0.124079</td>\n",
       "    </tr>\n",
       "    <tr>\n",
       "      <th>rad</th>\n",
       "      <td>0.053062</td>\n",
       "      <td>-0.053708</td>\n",
       "      <td>0.001804</td>\n",
       "      <td>-0.063700</td>\n",
       "      <td>0.363013</td>\n",
       "      <td>-0.044764</td>\n",
       "      <td>0.169904</td>\n",
       "      <td>-0.247369</td>\n",
       "      <td>1.000000</td>\n",
       "      <td>0.511239</td>\n",
       "      <td>-0.021753</td>\n",
       "      <td>0.034099</td>\n",
       "      <td>0.140653</td>\n",
       "      <td>-0.168627</td>\n",
       "    </tr>\n",
       "    <tr>\n",
       "      <th>tax</th>\n",
       "      <td>0.402170</td>\n",
       "      <td>-0.172419</td>\n",
       "      <td>0.529008</td>\n",
       "      <td>-0.158085</td>\n",
       "      <td>0.484798</td>\n",
       "      <td>-0.047834</td>\n",
       "      <td>0.380461</td>\n",
       "      <td>-0.523883</td>\n",
       "      <td>0.511239</td>\n",
       "      <td>1.000000</td>\n",
       "      <td>0.265369</td>\n",
       "      <td>-0.107464</td>\n",
       "      <td>0.355614</td>\n",
       "      <td>-0.337624</td>\n",
       "    </tr>\n",
       "    <tr>\n",
       "      <th>ptratio</th>\n",
       "      <td>0.272066</td>\n",
       "      <td>-0.415844</td>\n",
       "      <td>0.330036</td>\n",
       "      <td>-0.116814</td>\n",
       "      <td>0.385518</td>\n",
       "      <td>-0.126965</td>\n",
       "      <td>0.194622</td>\n",
       "      <td>-0.414226</td>\n",
       "      <td>-0.021753</td>\n",
       "      <td>0.265369</td>\n",
       "      <td>1.000000</td>\n",
       "      <td>0.095081</td>\n",
       "      <td>0.136206</td>\n",
       "      <td>-0.363661</td>\n",
       "    </tr>\n",
       "    <tr>\n",
       "      <th>b</th>\n",
       "      <td>0.068971</td>\n",
       "      <td>-0.024035</td>\n",
       "      <td>0.022508</td>\n",
       "      <td>-0.082773</td>\n",
       "      <td>0.165249</td>\n",
       "      <td>-0.120238</td>\n",
       "      <td>0.145497</td>\n",
       "      <td>-0.133527</td>\n",
       "      <td>0.034099</td>\n",
       "      <td>-0.107464</td>\n",
       "      <td>0.095081</td>\n",
       "      <td>1.000000</td>\n",
       "      <td>0.043278</td>\n",
       "      <td>-0.079032</td>\n",
       "    </tr>\n",
       "    <tr>\n",
       "      <th>lstat</th>\n",
       "      <td>0.457977</td>\n",
       "      <td>-0.240123</td>\n",
       "      <td>0.391588</td>\n",
       "      <td>0.144264</td>\n",
       "      <td>0.515178</td>\n",
       "      <td>-0.603433</td>\n",
       "      <td>0.605238</td>\n",
       "      <td>-0.340490</td>\n",
       "      <td>0.140653</td>\n",
       "      <td>0.355614</td>\n",
       "      <td>0.136206</td>\n",
       "      <td>0.043278</td>\n",
       "      <td>1.000000</td>\n",
       "      <td>-0.629751</td>\n",
       "    </tr>\n",
       "    <tr>\n",
       "      <th>medv</th>\n",
       "      <td>-0.330080</td>\n",
       "      <td>0.277346</td>\n",
       "      <td>-0.354402</td>\n",
       "      <td>0.088814</td>\n",
       "      <td>-0.391941</td>\n",
       "      <td>0.618453</td>\n",
       "      <td>-0.392513</td>\n",
       "      <td>0.124079</td>\n",
       "      <td>-0.168627</td>\n",
       "      <td>-0.337624</td>\n",
       "      <td>-0.363661</td>\n",
       "      <td>-0.079032</td>\n",
       "      <td>-0.629751</td>\n",
       "      <td>1.000000</td>\n",
       "    </tr>\n",
       "  </tbody>\n",
       "</table>\n",
       "</div>"
      ],
      "text/plain": [
       "             crim        zn     indus      chas       nox        rm       age  \\\n",
       "crim     1.000000 -0.325160  0.469416 -0.048580  0.548323 -0.171687  0.402817   \n",
       "zn      -0.325160  1.000000 -0.262096  0.020274 -0.470424  0.278400 -0.253406   \n",
       "indus    0.469416 -0.262096  1.000000  0.107076  0.520649 -0.061710  0.368324   \n",
       "chas    -0.048580  0.020274  0.107076  1.000000  0.026705 -0.054154  0.086784   \n",
       "nox      0.548323 -0.470424  0.520649  0.026705  1.000000 -0.207798  0.666780   \n",
       "rm      -0.171687  0.278400 -0.061710 -0.054154 -0.207798  1.000000 -0.104326   \n",
       "age      0.402817 -0.253406  0.368324  0.086784  0.666780 -0.104326  1.000000   \n",
       "dis     -0.428820  0.425397 -0.450949 -0.094252 -0.722706  0.079330 -0.595085   \n",
       "rad      0.053062 -0.053708  0.001804 -0.063700  0.363013 -0.044764  0.169904   \n",
       "tax      0.402170 -0.172419  0.529008 -0.158085  0.484798 -0.047834  0.380461   \n",
       "ptratio  0.272066 -0.415844  0.330036 -0.116814  0.385518 -0.126965  0.194622   \n",
       "b        0.068971 -0.024035  0.022508 -0.082773  0.165249 -0.120238  0.145497   \n",
       "lstat    0.457977 -0.240123  0.391588  0.144264  0.515178 -0.603433  0.605238   \n",
       "medv    -0.330080  0.277346 -0.354402  0.088814 -0.391941  0.618453 -0.392513   \n",
       "\n",
       "              dis       rad       tax   ptratio         b     lstat      medv  \n",
       "crim    -0.428820  0.053062  0.402170  0.272066  0.068971  0.457977 -0.330080  \n",
       "zn       0.425397 -0.053708 -0.172419 -0.415844 -0.024035 -0.240123  0.277346  \n",
       "indus   -0.450949  0.001804  0.529008  0.330036  0.022508  0.391588 -0.354402  \n",
       "chas    -0.094252 -0.063700 -0.158085 -0.116814 -0.082773  0.144264  0.088814  \n",
       "nox     -0.722706  0.363013  0.484798  0.385518  0.165249  0.515178 -0.391941  \n",
       "rm       0.079330 -0.044764 -0.047834 -0.126965 -0.120238 -0.603433  0.618453  \n",
       "age     -0.595085  0.169904  0.380461  0.194622  0.145497  0.605238 -0.392513  \n",
       "dis      1.000000 -0.247369 -0.523883 -0.414226 -0.133527 -0.340490  0.124079  \n",
       "rad     -0.247369  1.000000  0.511239 -0.021753  0.034099  0.140653 -0.168627  \n",
       "tax     -0.523883  0.511239  1.000000  0.265369 -0.107464  0.355614 -0.337624  \n",
       "ptratio -0.414226 -0.021753  0.265369  1.000000  0.095081  0.136206 -0.363661  \n",
       "b       -0.133527  0.034099 -0.107464  0.095081  1.000000  0.043278 -0.079032  \n",
       "lstat   -0.340490  0.140653  0.355614  0.136206  0.043278  1.000000 -0.629751  \n",
       "medv     0.124079 -0.168627 -0.337624 -0.363661 -0.079032 -0.629751  1.000000  "
      ]
     },
     "execution_count": 104,
     "metadata": {},
     "output_type": "execute_result"
    }
   ],
   "source": [
    "ds.corr()"
   ]
  },
  {
   "cell_type": "code",
   "execution_count": 103,
   "id": "5e3b5cf6-1fbb-4da7-baa0-d161c42d26d9",
   "metadata": {},
   "outputs": [
    {
     "data": {
      "text/plain": [
       "<Axes: >"
      ]
     },
     "execution_count": 103,
     "metadata": {},
     "output_type": "execute_result"
    },
    {
     "data": {
      "image/png": "[encoded data removed]",
      "text/plain": [
       "<Figure size 640x480 with 2 Axes>"
      ]
     },
     "metadata": {},
     "output_type": "display_data"
    }
   ],
   "source": [
    "sns.heatmap( ds.corr() , cmap=\"twilight\" )"
   ]
  },
  {
   "cell_type": "code",
   "execution_count": 87,
   "id": "1c7f42ac-9e5d-4a8f-a1b6-a8877002a781",
   "metadata": {},
   "outputs": [
    {
     "data": {
      "text/plain": [
       "crim       5.223149\n",
       "zn         2.225666\n",
       "indus      0.295022\n",
       "chas       3.405904\n",
       "nox        0.729308\n",
       "rm         0.403612\n",
       "age       -0.598963\n",
       "dis        1.011781\n",
       "rad        1.004815\n",
       "tax        0.669956\n",
       "ptratio   -0.802325\n",
       "b         -2.890374\n",
       "lstat      0.906460\n",
       "medv       1.108098\n",
       "dtype: float64"
      ]
     },
     "execution_count": 87,
     "metadata": {},
     "output_type": "execute_result"
    }
   ],
   "source": [
    "ds.skew()"
   ]
  },
  {
   "cell_type": "markdown",
   "id": "fa77d558-d407-4c49-9baf-7c1dadca887f",
   "metadata": {},
   "source": [
    "### 2.2. Outlier Removal"
   ]
  },
  {
   "cell_type": "code",
   "execution_count": 89,
   "id": "4341498d-a390-47a2-8521-6c599156cc40",
   "metadata": {},
   "outputs": [],
   "source": [
    "def remove_outliers(\n",
    "    feature_name: str\n",
    "):\n",
    "    global ds\n",
    "    q3 , q1 = np.percentile( ds[ feature_name ] , [ 75 , 25 ] )\n",
    "    iqr = q3 - q1\n",
    "    ds = ds[ (ds[ feature_name ] >= q1 - 1.5 * iqr) & (ds[ feature_name ] <= q3 + 1.5 * iqr) ]\n",
    "\n",
    "remove_outliers( \"crim\" )\n",
    "remove_outliers( \"zn\" )\n",
    "remove_outliers( \"b\" )\n",
    "remove_outliers( \"rad\" )\n",
    "remove_outliers( \"tax\" )\n",
    "remove_outliers( \"lstat\" )\n",
    "remove_outliers( \"medv\" )"
   ]
  },
  {
   "cell_type": "code",
   "execution_count": 90,
   "id": "f4e8cae5-9503-41eb-b589-f24cd06415a7",
   "metadata": {},
   "outputs": [
    {
     "data": {
      "text/html": [
       "<div>\n",
       "<style scoped>\n",
       "    .dataframe tbody tr th:only-of-type {\n",
       "        vertical-align: middle;\n",
       "    }\n",
       "\n",
       "    .dataframe tbody tr th {\n",
       "        vertical-align: top;\n",
       "    }\n",
       "\n",
       "    .dataframe thead th {\n",
       "        text-align: right;\n",
       "    }\n",
       "</style>\n",
       "<table border=\"1\" class=\"dataframe\">\n",
       "  <thead>\n",
       "    <tr style=\"text-align: right;\">\n",
       "      <th></th>\n",
       "      <th>crim</th>\n",
       "      <th>zn</th>\n",
       "      <th>indus</th>\n",
       "      <th>chas</th>\n",
       "      <th>nox</th>\n",
       "      <th>rm</th>\n",
       "      <th>age</th>\n",
       "      <th>dis</th>\n",
       "      <th>rad</th>\n",
       "      <th>tax</th>\n",
       "      <th>ptratio</th>\n",
       "      <th>b</th>\n",
       "      <th>lstat</th>\n",
       "      <th>medv</th>\n",
       "    </tr>\n",
       "  </thead>\n",
       "  <tbody>\n",
       "    <tr>\n",
       "      <th>count</th>\n",
       "      <td>146.000000</td>\n",
       "      <td>146.000000</td>\n",
       "      <td>146.000000</td>\n",
       "      <td>146.000000</td>\n",
       "      <td>146.000000</td>\n",
       "      <td>146.000000</td>\n",
       "      <td>146.000000</td>\n",
       "      <td>146.000000</td>\n",
       "      <td>146.000000</td>\n",
       "      <td>146.000000</td>\n",
       "      <td>146.000000</td>\n",
       "      <td>146.000000</td>\n",
       "      <td>146.000000</td>\n",
       "      <td>146.000000</td>\n",
       "    </tr>\n",
       "    <tr>\n",
       "      <th>mean</th>\n",
       "      <td>0.155954</td>\n",
       "      <td>5.722603</td>\n",
       "      <td>8.847466</td>\n",
       "      <td>0.054795</td>\n",
       "      <td>0.498979</td>\n",
       "      <td>6.162630</td>\n",
       "      <td>58.414384</td>\n",
       "      <td>4.213428</td>\n",
       "      <td>4.486301</td>\n",
       "      <td>312.445205</td>\n",
       "      <td>18.427397</td>\n",
       "      <td>393.535890</td>\n",
       "      <td>10.924726</td>\n",
       "      <td>22.315068</td>\n",
       "    </tr>\n",
       "    <tr>\n",
       "      <th>std</th>\n",
       "      <td>0.114413</td>\n",
       "      <td>11.541833</td>\n",
       "      <td>4.521242</td>\n",
       "      <td>0.228362</td>\n",
       "      <td>0.056200</td>\n",
       "      <td>0.323472</td>\n",
       "      <td>25.850421</td>\n",
       "      <td>1.467104</td>\n",
       "      <td>0.896247</td>\n",
       "      <td>69.453535</td>\n",
       "      <td>1.607848</td>\n",
       "      <td>4.048847</td>\n",
       "      <td>4.118163</td>\n",
       "      <td>3.699438</td>\n",
       "    </tr>\n",
       "    <tr>\n",
       "      <th>min</th>\n",
       "      <td>0.028750</td>\n",
       "      <td>0.000000</td>\n",
       "      <td>2.180000</td>\n",
       "      <td>0.000000</td>\n",
       "      <td>0.409000</td>\n",
       "      <td>5.390000</td>\n",
       "      <td>2.900000</td>\n",
       "      <td>1.668600</td>\n",
       "      <td>3.000000</td>\n",
       "      <td>193.000000</td>\n",
       "      <td>15.200000</td>\n",
       "      <td>379.410000</td>\n",
       "      <td>2.980000</td>\n",
       "      <td>13.300000</td>\n",
       "    </tr>\n",
       "    <tr>\n",
       "      <th>25%</th>\n",
       "      <td>0.070543</td>\n",
       "      <td>0.000000</td>\n",
       "      <td>5.640000</td>\n",
       "      <td>0.000000</td>\n",
       "      <td>0.448000</td>\n",
       "      <td>5.915500</td>\n",
       "      <td>38.625000</td>\n",
       "      <td>2.849275</td>\n",
       "      <td>4.000000</td>\n",
       "      <td>270.000000</td>\n",
       "      <td>17.650000</td>\n",
       "      <td>391.380000</td>\n",
       "      <td>7.550000</td>\n",
       "      <td>19.500000</td>\n",
       "    </tr>\n",
       "    <tr>\n",
       "      <th>50%</th>\n",
       "      <td>0.127730</td>\n",
       "      <td>0.000000</td>\n",
       "      <td>7.870000</td>\n",
       "      <td>0.000000</td>\n",
       "      <td>0.493000</td>\n",
       "      <td>6.127000</td>\n",
       "      <td>57.400000</td>\n",
       "      <td>4.054650</td>\n",
       "      <td>4.500000</td>\n",
       "      <td>296.000000</td>\n",
       "      <td>18.600000</td>\n",
       "      <td>394.955000</td>\n",
       "      <td>10.285000</td>\n",
       "      <td>21.900000</td>\n",
       "    </tr>\n",
       "    <tr>\n",
       "      <th>75%</th>\n",
       "      <td>0.219125</td>\n",
       "      <td>0.000000</td>\n",
       "      <td>10.010000</td>\n",
       "      <td>0.000000</td>\n",
       "      <td>0.544000</td>\n",
       "      <td>6.408500</td>\n",
       "      <td>82.575000</td>\n",
       "      <td>5.415900</td>\n",
       "      <td>5.000000</td>\n",
       "      <td>384.000000</td>\n",
       "      <td>19.200000</td>\n",
       "      <td>396.900000</td>\n",
       "      <td>13.605000</td>\n",
       "      <td>24.350000</td>\n",
       "    </tr>\n",
       "    <tr>\n",
       "      <th>max</th>\n",
       "      <td>0.590050</td>\n",
       "      <td>45.000000</td>\n",
       "      <td>21.890000</td>\n",
       "      <td>1.000000</td>\n",
       "      <td>0.624000</td>\n",
       "      <td>6.897000</td>\n",
       "      <td>98.900000</td>\n",
       "      <td>8.013600</td>\n",
       "      <td>6.000000</td>\n",
       "      <td>437.000000</td>\n",
       "      <td>21.200000</td>\n",
       "      <td>396.900000</td>\n",
       "      <td>21.320000</td>\n",
       "      <td>32.500000</td>\n",
       "    </tr>\n",
       "  </tbody>\n",
       "</table>\n",
       "</div>"
      ],
      "text/plain": [
       "             crim          zn       indus        chas         nox          rm  \\\n",
       "count  146.000000  146.000000  146.000000  146.000000  146.000000  146.000000   \n",
       "mean     0.155954    5.722603    8.847466    0.054795    0.498979    6.162630   \n",
       "std      0.114413   11.541833    4.521242    0.228362    0.056200    0.323472   \n",
       "min      0.028750    0.000000    2.180000    0.000000    0.409000    5.390000   \n",
       "25%      0.070543    0.000000    5.640000    0.000000    0.448000    5.915500   \n",
       "50%      0.127730    0.000000    7.870000    0.000000    0.493000    6.127000   \n",
       "75%      0.219125    0.000000   10.010000    0.000000    0.544000    6.408500   \n",
       "max      0.590050   45.000000   21.890000    1.000000    0.624000    6.897000   \n",
       "\n",
       "              age         dis         rad         tax     ptratio           b  \\\n",
       "count  146.000000  146.000000  146.000000  146.000000  146.000000  146.000000   \n",
       "mean    58.414384    4.213428    4.486301  312.445205   18.427397  393.535890   \n",
       "std     25.850421    1.467104    0.896247   69.453535    1.607848    4.048847   \n",
       "min      2.900000    1.668600    3.000000  193.000000   15.200000  379.410000   \n",
       "25%     38.625000    2.849275    4.000000  270.000000   17.650000  391.380000   \n",
       "50%     57.400000    4.054650    4.500000  296.000000   18.600000  394.955000   \n",
       "75%     82.575000    5.415900    5.000000  384.000000   19.200000  396.900000   \n",
       "max     98.900000    8.013600    6.000000  437.000000   21.200000  396.900000   \n",
       "\n",
       "            lstat        medv  \n",
       "count  146.000000  146.000000  \n",
       "mean    10.924726   22.315068  \n",
       "std      4.118163    3.699438  \n",
       "min      2.980000   13.300000  \n",
       "25%      7.550000   19.500000  \n",
       "50%     10.285000   21.900000  \n",
       "75%     13.605000   24.350000  \n",
       "max     21.320000   32.500000  "
      ]
     },
     "execution_count": 90,
     "metadata": {},
     "output_type": "execute_result"
    }
   ],
   "source": [
    "ds.describe()"
   ]
  },
  {
   "cell_type": "code",
   "execution_count": 91,
   "id": "43e12e4d-ff7f-453e-b752-840bd92d8ced",
   "metadata": {},
   "outputs": [
    {
     "data": {
      "text/plain": [
       "<Axes: >"
      ]
     },
     "execution_count": 91,
     "metadata": {},
     "output_type": "execute_result"
    },
    {
     "data": {
      "image/png": "[encoded data removed]",
      "text/plain": [
       "<Figure size 640x480 with 1 Axes>"
      ]
     },
     "metadata": {},
     "output_type": "display_data"
    }
   ],
   "source": [
    "sns.boxplot( data=ds )"
   ]
  },
  {
   "cell_type": "code",
   "execution_count": 92,
   "id": "ec867bfa-1892-4e6b-a35b-1f26f2f53282",
   "metadata": {},
   "outputs": [
    {
     "data": {
      "text/plain": [
       "crim       1.498322\n",
       "zn         1.952712\n",
       "indus      1.362684\n",
       "chas       3.953273\n",
       "nox        0.477435\n",
       "rm         0.229558\n",
       "age       -0.118040\n",
       "dis        0.202011\n",
       "rad       -0.016639\n",
       "tax        0.440699\n",
       "ptratio   -0.156375\n",
       "b         -1.411075\n",
       "lstat      0.406729\n",
       "medv       0.634390\n",
       "dtype: float64"
      ]
     },
     "execution_count": 92,
     "metadata": {},
     "output_type": "execute_result"
    }
   ],
   "source": [
    "ds.skew()"
   ]
  },
  {
   "cell_type": "markdown",
   "id": "0413827d-a757-41f9-b95f-68ac99f53af8",
   "metadata": {},
   "source": [
    "### 2.3. Data Transformation"
   ]
  },
  {
   "cell_type": "markdown",
   "id": "b5bc0d63-31ee-452f-9f1d-b774fe882c02",
   "metadata": {},
   "source": [
    "#### 2.3.1. Log Transformation"
   ]
  },
  {
   "cell_type": "code",
   "execution_count": 93,
   "id": "cf7859e3-c215-4872-9c00-60f245e8b4ce",
   "metadata": {},
   "outputs": [],
   "source": [
    "ds[ \"crim\" ] = np.log2( ds[\"crim\"] )\n",
    "ds[ \"zn\" ] = np.cbrt( ds[\"zn\"] )\n",
    "ds[ \"nox\" ] = np.log2( ds[\"nox\"] )"
   ]
  },
  {
   "cell_type": "code",
   "execution_count": 94,
   "id": "bf16b55b-ddfe-4f41-836c-44da6080f7c8",
   "metadata": {},
   "outputs": [
    {
     "data": {
      "text/plain": [
       "<Axes: xlabel='zn'>"
      ]
     },
     "execution_count": 94,
     "metadata": {},
     "output_type": "execute_result"
    },
    {
     "data": {
      "image/png": "[encoded data removed]",
      "text/plain": [
       "<Figure size 640x480 with 1 Axes>"
      ]
     },
     "metadata": {},
     "output_type": "display_data"
    }
   ],
   "source": [
    "sns.boxplot( data=ds , x=\"zn\" )"
   ]
  },
  {
   "cell_type": "code",
   "execution_count": 95,
   "id": "e29e29d5-667a-4359-ba16-4ecadb946b01",
   "metadata": {},
   "outputs": [
    {
     "data": {
      "text/plain": [
       "<Axes: xlabel='crim'>"
      ]
     },
     "execution_count": 95,
     "metadata": {},
     "output_type": "execute_result"
    },
    {
     "data": {
      "image/png": "[encoded data removed]",
      "text/plain": [
       "<Figure size 640x480 with 1 Axes>"
      ]
     },
     "metadata": {},
     "output_type": "display_data"
    }
   ],
   "source": [
    "sns.boxplot( data=ds , x=\"crim\" )"
   ]
  },
  {
   "cell_type": "code",
   "execution_count": 96,
   "id": "f49e7498-aac6-4cb7-9b54-5c23f79425cb",
   "metadata": {},
   "outputs": [
    {
     "data": {
      "text/plain": [
       "<Axes: xlabel='nox'>"
      ]
     },
     "execution_count": 96,
     "metadata": {},
     "output_type": "execute_result"
    },
    {
     "data": {
      "image/png": "[encoded data removed]",
      "text/plain": [
       "<Figure size 640x480 with 1 Axes>"
      ]
     },
     "metadata": {},
     "output_type": "display_data"
    }
   ],
   "source": [
    "sns.boxplot( data=ds , x=\"nox\" )"
   ]
  },
  {
   "cell_type": "code",
   "execution_count": 97,
   "id": "788273f6-e79f-46f3-bbc8-3807b4e38151",
   "metadata": {},
   "outputs": [
    {
     "data": {
      "text/plain": [
       "<Axes: >"
      ]
     },
     "execution_count": 97,
     "metadata": {},
     "output_type": "execute_result"
    },
    {
     "data": {
      "image/png": "[encoded data removed]",
      "text/plain": [
       "<Figure size 640x480 with 1 Axes>"
      ]
     },
     "metadata": {},
     "output_type": "display_data"
    }
   ],
   "source": [
    "sns.boxplot( data=ds )"
   ]
  },
  {
   "cell_type": "code",
   "execution_count": 98,
   "id": "870ffb72-1532-48ad-b3c6-2495808420df",
   "metadata": {},
   "outputs": [
    {
     "data": {
      "text/plain": [
       "crim      -0.003047\n",
       "zn         1.367498\n",
       "indus      1.362684\n",
       "chas       3.953273\n",
       "nox        0.269119\n",
       "rm         0.229558\n",
       "age       -0.118040\n",
       "dis        0.202011\n",
       "rad       -0.016639\n",
       "tax        0.440699\n",
       "ptratio   -0.156375\n",
       "b         -1.411075\n",
       "lstat      0.406729\n",
       "medv       0.634390\n",
       "dtype: float64"
      ]
     },
     "execution_count": 98,
     "metadata": {},
     "output_type": "execute_result"
    }
   ],
   "source": [
    "ds.skew()"
   ]
  },
  {
   "cell_type": "markdown",
   "id": "df2747e6-7de9-41f3-a55a-603fc65f82f5",
   "metadata": {},
   "source": [
    "#### 2.3.2. Min-max normalization"
   ]
  },
  {
   "cell_type": "code",
   "execution_count": 99,
   "id": "b54d9ba1-ff25-404f-9dbe-9b8d386bc968",
   "metadata": {},
   "outputs": [],
   "source": [
    "def min_max_normalize( name: str ):\n",
    "    ds[ name ] = (ds[ name ] - ds[ name ].min()) / ( ds[ name ].max() - ds[ name ].min() )\n",
    "\n",
    "for col in ds.drop( [ \"medv\" ] , axis=1 ).columns:\n",
    "    min_max_normalize( col )"
   ]
  },
  {
   "cell_type": "markdown",
   "id": "8be1f99b-8100-4655-bbee-6ef43c40c05d",
   "metadata": {},
   "source": [
    "## 3. Model Building"
   ]
  },
  {
   "cell_type": "markdown",
   "id": "aff7c9fd-d8f0-4734-88b9-1608303637c3",
   "metadata": {},
   "source": [
    "### 3.1. train-test split"
   ]
  },
  {
   "cell_type": "code",
   "execution_count": 105,
   "id": "233c4621-a5ce-452c-983c-e7040c0d37db",
   "metadata": {},
   "outputs": [],
   "source": [
    "from sklearn.model_selection import train_test_split\n",
    "\n",
    "X = np.asarray( ds.drop( [ \"medv\" ] , axis=1 ) )\n",
    "y = np.asarray( ds[ \"medv\" ] )\n",
    "\n",
    "X_train, X_test, y_train, y_test = train_test_split( X, y, test_size=0.3 )"
   ]
  },
  {
   "cell_type": "code",
   "execution_count": 106,
   "id": "735fa15b-f962-4ac9-a46e-ae6a8f1df3cf",
   "metadata": {},
   "outputs": [],
   "source": [
    "from sklearn.linear_model import LinearRegression\n",
    "\n",
    "reg = LinearRegression().fit( X_train , y_train )\n",
    "y_pred = reg.predict( X_test )"
   ]
  },
  {
   "cell_type": "code",
   "execution_count": 108,
   "id": "0ac0a84d-067c-4564-89c7-5bafa67e6971",
   "metadata": {},
   "outputs": [
    {
     "data": {
      "text/plain": [
       "<Axes: xlabel='medv'>"
      ]
     },
     "execution_count": 108,
     "metadata": {},
     "output_type": "execute_result"
    },
    {
     "data": {
      "image/png": "[encoded data removed]",
      "text/plain": [
       "<Figure size 640x480 with 1 Axes>"
      ]
     },
     "metadata": {},
     "output_type": "display_data"
    }
   ],
   "source": [
    "sns.boxplot( data=ds , x=\"medv\" ) "
   ]
  },
  {
   "cell_type": "code",
   "execution_count": 109,
   "id": "f6c3bc65-6a9e-40d3-8338-8f0ddc4e61dd",
   "metadata": {},
   "outputs": [
    {
     "name": "stdout",
     "output_type": "stream",
     "text": [
      "1.6611609911015393\n",
      "0.763262867667589\n"
     ]
    }
   ],
   "source": [
    "from sklearn.metrics import mean_absolute_error , r2_score\n",
    "\n",
    "print( mean_absolute_error( y_test , y_pred ) )\n",
    "\n",
    "# Reference: https://en.wikipedia.org/wiki/Coefficient_of_determination\n",
    "print( r2_score( y_test , y_pred ) )"
   ]
  }
 ],
 "metadata": {
  "kernelspec": {
   "display_name": "Python 3 (ipykernel)",
   "language": "python",
   "name": "python3"
  },
  "language_info": {
   "codemirror_mode": {
    "name": "ipython",
    "version": 3
   },
   "file_extension": ".py",
   "mimetype": "text/x-python",
   "name": "python",
   "nbconvert_exporter": "python",
   "pygments_lexer": "ipython3",
   "version": "3.8.10"
  }
 },
 "nbformat": 4,
 "nbformat_minor": 5
}
