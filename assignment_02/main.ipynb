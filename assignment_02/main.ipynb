{
 "cells": [
  {
   "cell_type": "markdown",
   "id": "c4bc159a-39b3-4276-9d4d-938e15413de2",
   "metadata": {},
   "source": [
    "# DSBDL Assignment 02 - Data Wrangling 2\n",
    "\n",
    "Create an “Academic performance” dataset of students and perform the following operations \n",
    "using Python. \n",
    "1. Scan all variables for missing values and inconsistencies. If there are missing values \n",
    "and/or inconsistencies, use any of the suitable techniques to deal with them.\n",
    "2. Scan all numeric variables for outliers. If there are outliers, use any of the suitable \n",
    "techniques to deal with them.\n",
    "3. Apply data transformations on at least one of the variables. The purpose of this \n",
    "transformation should be one of the following reasons: to change the scale for better \n",
    "understanding of the variable, to convert a non-linear relation into a linear one, or to \n",
    "decrease the skewness and convert the distribution into a normal distribution.\n",
    "Reason and document your approach properly."
   ]
  },
  {
   "cell_type": "code",
   "execution_count": 1,
   "id": "4e240fbb-c737-4b20-b872-d61c9d96dfe5",
   "metadata": {},
   "outputs": [],
   "source": [
    "import numpy as np\n",
    "import pandas as pd\n",
    "import seaborn as sns"
   ]
  },
  {
   "cell_type": "markdown",
   "id": "15a52630-0a33-4429-a59a-2fdb8d81f688",
   "metadata": {},
   "source": [
    "## Create a dummy dataset"
   ]
  },
  {
   "cell_type": "code",
   "execution_count": 8,
   "id": "b0f5030d-2a37-47ba-af24-d8e0ed77c3be",
   "metadata": {},
   "outputs": [
    {
     "data": {
      "text/html": [
       "<div>\n",
       "<style scoped>\n",
       "    .dataframe tbody tr th:only-of-type {\n",
       "        vertical-align: middle;\n",
       "    }\n",
       "\n",
       "    .dataframe tbody tr th {\n",
       "        vertical-align: top;\n",
       "    }\n",
       "\n",
       "    .dataframe thead th {\n",
       "        text-align: right;\n",
       "    }\n",
       "</style>\n",
       "<table border=\"1\" class=\"dataframe\">\n",
       "  <thead>\n",
       "    <tr style=\"text-align: right;\">\n",
       "      <th></th>\n",
       "      <th>name</th>\n",
       "      <th>division</th>\n",
       "      <th>AI</th>\n",
       "      <th>DSBDA</th>\n",
       "      <th>CC</th>\n",
       "      <th>WT</th>\n",
       "    </tr>\n",
       "  </thead>\n",
       "  <tbody>\n",
       "    <tr>\n",
       "      <th>0</th>\n",
       "      <td>L14OO</td>\n",
       "      <td>TE1</td>\n",
       "      <td>21.0</td>\n",
       "      <td>2.0</td>\n",
       "      <td>16.0</td>\n",
       "      <td>8.0</td>\n",
       "    </tr>\n",
       "    <tr>\n",
       "      <th>1</th>\n",
       "      <td>1110W</td>\n",
       "      <td>TE4</td>\n",
       "      <td>1.0</td>\n",
       "      <td>8.0</td>\n",
       "      <td>31.0</td>\n",
       "      <td>31.0</td>\n",
       "    </tr>\n",
       "    <tr>\n",
       "      <th>2</th>\n",
       "      <td>XBQPB</td>\n",
       "      <td>TE4</td>\n",
       "      <td>38.0</td>\n",
       "      <td>0.0</td>\n",
       "      <td>10.0</td>\n",
       "      <td>3.0</td>\n",
       "    </tr>\n",
       "    <tr>\n",
       "      <th>3</th>\n",
       "      <td>KAF3S</td>\n",
       "      <td>TE2</td>\n",
       "      <td>29.0</td>\n",
       "      <td>38.0</td>\n",
       "      <td>20.0</td>\n",
       "      <td>29.0</td>\n",
       "    </tr>\n",
       "    <tr>\n",
       "      <th>4</th>\n",
       "      <td>AX93S</td>\n",
       "      <td>TE3</td>\n",
       "      <td>23.0</td>\n",
       "      <td>20.0</td>\n",
       "      <td>NaN</td>\n",
       "      <td>45.0</td>\n",
       "    </tr>\n",
       "  </tbody>\n",
       "</table>\n",
       "</div>"
      ],
      "text/plain": [
       "    name division    AI  DSBDA    CC    WT\n",
       "0  L14OO      TE1  21.0    2.0  16.0   8.0\n",
       "1  1110W      TE4   1.0    8.0  31.0  31.0\n",
       "2  XBQPB      TE4  38.0    0.0  10.0   3.0\n",
       "3  KAF3S      TE2  29.0   38.0  20.0  29.0\n",
       "4  AX93S      TE3  23.0   20.0   NaN  45.0"
      ]
     },
     "execution_count": 8,
     "metadata": {},
     "output_type": "execute_result"
    }
   ],
   "source": [
    "import random\n",
    "import string\n",
    "\n",
    "subjects = [ \"AI\" , \"DSBDA\" , \"CC\" , \"WT\" ]\n",
    "missing_prob = 0.1\n",
    "num_samples = 100\n",
    "\n",
    "# Reference -> https://stackoverflow.com/questions/2257441/random-string-generation-with-upper-case-letters-and-digits\n",
    "def get_student_name() -> str:\n",
    "    return ''.join(random.choices(string.ascii_uppercase + string.digits, k=5))\n",
    "\n",
    "def get_random_marks() -> int:\n",
    "    return random.randint( 0 , 50 )\n",
    "\n",
    "def get_division() -> str:\n",
    "    return \"TE\" + str( random.randint( 1 , 4 ) )\n",
    "\n",
    "def is_nan() -> bool:\n",
    "    return random.uniform( 0 , 1 ) < missing_prob\n",
    "\n",
    "student_ds = {}\n",
    "student_ds[ \"name\" ] = [ get_student_name() for _ in range( num_samples ) ]\n",
    "student_ds[ \"division\" ] = [ get_division() for _ in range( num_samples ) ]\n",
    "for subject in subjects:\n",
    "    student_ds[ subject ] = [ get_random_marks() for _ in range( num_samples ) ]\n",
    "    for i in range( num_samples ):\n",
    "        if is_nan():\n",
    "            student_ds[ subject ][ i ] = None\n",
    "\n",
    "ds = pd.DataFrame.from_dict( student_ds )\n",
    "ds.head()"
   ]
  },
  {
   "cell_type": "code",
   "execution_count": null,
   "id": "15d05f6b-513a-49fc-ad5b-67bbbc26e55b",
   "metadata": {},
   "outputs": [],
   "source": []
  }
 ],
 "metadata": {
  "kernelspec": {
   "display_name": "Python 3 (ipykernel)",
   "language": "python",
   "name": "python3"
  },
  "language_info": {
   "codemirror_mode": {
    "name": "ipython",
    "version": 3
   },
   "file_extension": ".py",
   "mimetype": "text/x-python",
   "name": "python",
   "nbconvert_exporter": "python",
   "pygments_lexer": "ipython3",
   "version": "3.10.4"
  }
 },
 "nbformat": 4,
 "nbformat_minor": 5
}
